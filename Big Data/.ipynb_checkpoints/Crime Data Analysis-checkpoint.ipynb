{
 "cells": [
  {
   "cell_type": "code",
   "execution_count": 1,
   "id": "428431e2",
   "metadata": {},
   "outputs": [],
   "source": [
    "import pandas as pd\n",
    "import numpy as np\n",
    "import matplotlib.pyplot as plt\n",
    "%matplotlib inline\n",
    "import seaborn as sns\n",
    "import warnings\n",
    "warnings.filterwarnings('ignore')"
   ]
  },
  {
   "cell_type": "code",
   "execution_count": 2,
   "id": "ec7a2a3e",
   "metadata": {},
   "outputs": [
    {
     "data": {
      "text/html": [
       "<div>\n",
       "<style scoped>\n",
       "    .dataframe tbody tr th:only-of-type {\n",
       "        vertical-align: middle;\n",
       "    }\n",
       "\n",
       "    .dataframe tbody tr th {\n",
       "        vertical-align: top;\n",
       "    }\n",
       "\n",
       "    .dataframe thead th {\n",
       "        text-align: right;\n",
       "    }\n",
       "</style>\n",
       "<table border=\"1\" class=\"dataframe\">\n",
       "  <thead>\n",
       "    <tr style=\"text-align: right;\">\n",
       "      <th></th>\n",
       "      <th>City</th>\n",
       "      <th>Population</th>\n",
       "      <th>Violent crime</th>\n",
       "      <th>Murder and nonnegligent manslaughter</th>\n",
       "      <th>Rape1</th>\n",
       "      <th>Robbery</th>\n",
       "      <th>Aggravated assault</th>\n",
       "      <th>Property crime</th>\n",
       "      <th>Burglary</th>\n",
       "      <th>Larceny-theft</th>\n",
       "      <th>Motor vehicle theft</th>\n",
       "      <th>Arson2</th>\n",
       "    </tr>\n",
       "  </thead>\n",
       "  <tbody>\n",
       "    <tr>\n",
       "      <th>0</th>\n",
       "      <td>New York</td>\n",
       "      <td>8,379,043</td>\n",
       "      <td>47,821</td>\n",
       "      <td>319.0</td>\n",
       "      <td>2,770</td>\n",
       "      <td>13,396</td>\n",
       "      <td>31,336</td>\n",
       "      <td>122,299</td>\n",
       "      <td>9,846</td>\n",
       "      <td>106,931</td>\n",
       "      <td>5,522</td>\n",
       "      <td>NaN</td>\n",
       "    </tr>\n",
       "    <tr>\n",
       "      <th>1</th>\n",
       "      <td>Los Angeles</td>\n",
       "      <td>4,015,546</td>\n",
       "      <td>29,400</td>\n",
       "      <td>258.0</td>\n",
       "      <td>2,274</td>\n",
       "      <td>9,652</td>\n",
       "      <td>17,216</td>\n",
       "      <td>95,704</td>\n",
       "      <td>13,809</td>\n",
       "      <td>66,253</td>\n",
       "      <td>15,642</td>\n",
       "      <td>1,672</td>\n",
       "    </tr>\n",
       "    <tr>\n",
       "      <th>2</th>\n",
       "      <td>Chicago</td>\n",
       "      <td>2,707,064</td>\n",
       "      <td>25,532</td>\n",
       "      <td>492.0</td>\n",
       "      <td>1,761</td>\n",
       "      <td>7,983</td>\n",
       "      <td>15,296</td>\n",
       "      <td>80,742</td>\n",
       "      <td>9,578</td>\n",
       "      <td>62,083</td>\n",
       "      <td>9,081</td>\n",
       "      <td>416</td>\n",
       "    </tr>\n",
       "    <tr>\n",
       "      <th>3</th>\n",
       "      <td>Houston</td>\n",
       "      <td>2,355,606</td>\n",
       "      <td>25,257</td>\n",
       "      <td>275.0</td>\n",
       "      <td>1,249</td>\n",
       "      <td>9,147</td>\n",
       "      <td>14,586</td>\n",
       "      <td>101,750</td>\n",
       "      <td>17,038</td>\n",
       "      <td>71,614</td>\n",
       "      <td>13,098</td>\n",
       "      <td>485</td>\n",
       "    </tr>\n",
       "    <tr>\n",
       "      <th>4</th>\n",
       "      <td>Detroit</td>\n",
       "      <td>663,502</td>\n",
       "      <td>13,040</td>\n",
       "      <td>275.0</td>\n",
       "      <td>952</td>\n",
       "      <td>2,346</td>\n",
       "      <td>9,467</td>\n",
       "      <td>28,550</td>\n",
       "      <td>6,820</td>\n",
       "      <td>14,844</td>\n",
       "      <td>6,886</td>\n",
       "      <td>789</td>\n",
       "    </tr>\n",
       "  </tbody>\n",
       "</table>\n",
       "</div>"
      ],
      "text/plain": [
       "          City Population Violent crime  Murder and nonnegligent manslaughter  \\\n",
       "0     New York  8,379,043        47,821                                 319.0   \n",
       "1  Los Angeles  4,015,546        29,400                                 258.0   \n",
       "2      Chicago  2,707,064        25,532                                 492.0   \n",
       "3      Houston  2,355,606        25,257                                 275.0   \n",
       "4      Detroit    663,502        13,040                                 275.0   \n",
       "\n",
       "   Rape1 Robbery Aggravated assault Property crime Burglary Larceny-theft  \\\n",
       "0  2,770  13,396             31,336        122,299    9,846       106,931   \n",
       "1  2,274   9,652             17,216         95,704   13,809        66,253   \n",
       "2  1,761   7,983             15,296         80,742    9,578        62,083   \n",
       "3  1,249   9,147             14,586        101,750   17,038        71,614   \n",
       "4    952   2,346              9,467         28,550    6,820        14,844   \n",
       "\n",
       "  Motor vehicle theft Arson2  \n",
       "0               5,522    NaN  \n",
       "1              15,642  1,672  \n",
       "2               9,081    416  \n",
       "3              13,098    485  \n",
       "4               6,886    789  "
      ]
     },
     "execution_count": 2,
     "metadata": {},
     "output_type": "execute_result"
    }
   ],
   "source": [
    "df = pd.read_csv(\"./US_Crime_Rate_2016.csv\")\n",
    "df.head()"
   ]
  },
  {
   "cell_type": "code",
   "execution_count": 3,
   "id": "b75cbc84",
   "metadata": {},
   "outputs": [
    {
     "data": {
      "text/plain": [
       "['City',\n",
       " 'Population',\n",
       " 'Violent crime',\n",
       " 'Murder and nonnegligent manslaughter',\n",
       " 'Rape1',\n",
       " 'Robbery',\n",
       " 'Aggravated assault',\n",
       " 'Property crime',\n",
       " 'Burglary',\n",
       " 'Larceny-theft',\n",
       " 'Motor vehicle theft',\n",
       " 'Arson2']"
      ]
     },
     "execution_count": 3,
     "metadata": {},
     "output_type": "execute_result"
    }
   ],
   "source": [
    "df.columns.tolist()"
   ]
  },
  {
   "cell_type": "code",
   "execution_count": 4,
   "id": "04aa1256",
   "metadata": {},
   "outputs": [
    {
     "name": "stdout",
     "output_type": "stream",
     "text": [
      "<class 'pandas.core.frame.DataFrame'>\n",
      "RangeIndex: 8105 entries, 0 to 8104\n",
      "Data columns (total 12 columns):\n",
      " #   Column                                Non-Null Count  Dtype  \n",
      "---  ------                                --------------  -----  \n",
      " 0   City                                  8105 non-null   object \n",
      " 1   Population                            8103 non-null   object \n",
      " 2   Violent crime                         8084 non-null   object \n",
      " 3   Murder and nonnegligent manslaughter  8102 non-null   float64\n",
      " 4   Rape1                                 8090 non-null   object \n",
      " 5   Robbery                               8104 non-null   object \n",
      " 6   Aggravated assault                    8103 non-null   object \n",
      " 7   Property crime                        8082 non-null   object \n",
      " 8   Burglary                              8092 non-null   object \n",
      " 9   Larceny-theft                         8098 non-null   object \n",
      " 10  Motor vehicle theft                   8102 non-null   object \n",
      " 11  Arson2                                7979 non-null   object \n",
      "dtypes: float64(1), object(11)\n",
      "memory usage: 760.0+ KB\n"
     ]
    }
   ],
   "source": [
    "df.info()"
   ]
  },
  {
   "cell_type": "code",
   "execution_count": 5,
   "id": "f32ddaa7",
   "metadata": {},
   "outputs": [
    {
     "data": {
      "text/plain": [
       "True"
      ]
     },
     "execution_count": 5,
     "metadata": {},
     "output_type": "execute_result"
    }
   ],
   "source": [
    "df.isnull().values.any()"
   ]
  },
  {
   "cell_type": "code",
   "execution_count": 6,
   "id": "84ddf8e2",
   "metadata": {},
   "outputs": [
    {
     "data": {
      "text/plain": [
       "216"
      ]
     },
     "execution_count": 6,
     "metadata": {},
     "output_type": "execute_result"
    }
   ],
   "source": [
    "df.isnull().sum().sum()"
   ]
  },
  {
   "cell_type": "code",
   "execution_count": 7,
   "id": "b46a39ae",
   "metadata": {},
   "outputs": [
    {
     "data": {
      "text/plain": [
       "City                                      0\n",
       "Population                                2\n",
       "Violent crime                            21\n",
       "Murder and nonnegligent manslaughter      3\n",
       "Rape1                                    15\n",
       "Robbery                                   1\n",
       "Aggravated assault                        2\n",
       "Property crime                           23\n",
       "Burglary                                 13\n",
       "Larceny-theft                             7\n",
       "Motor vehicle theft                       3\n",
       "Arson2                                  126\n",
       "dtype: int64"
      ]
     },
     "execution_count": 7,
     "metadata": {},
     "output_type": "execute_result"
    }
   ],
   "source": [
    "df.isnull().sum(axis = 0)"
   ]
  },
  {
   "cell_type": "code",
   "execution_count": 8,
   "id": "0d7c32e2",
   "metadata": {},
   "outputs": [],
   "source": [
    "df.dropna(inplace=True)"
   ]
  },
  {
   "cell_type": "code",
   "execution_count": 9,
   "id": "bd021692",
   "metadata": {},
   "outputs": [
    {
     "name": "stdout",
     "output_type": "stream",
     "text": [
      "<class 'pandas.core.frame.DataFrame'>\n",
      "Int64Index: 7937 entries, 1 to 8083\n",
      "Data columns (total 12 columns):\n",
      " #   Column                                Non-Null Count  Dtype  \n",
      "---  ------                                --------------  -----  \n",
      " 0   City                                  7937 non-null   object \n",
      " 1   Population                            7937 non-null   object \n",
      " 2   Violent crime                         7937 non-null   object \n",
      " 3   Murder and nonnegligent manslaughter  7937 non-null   float64\n",
      " 4   Rape1                                 7937 non-null   object \n",
      " 5   Robbery                               7937 non-null   object \n",
      " 6   Aggravated assault                    7937 non-null   object \n",
      " 7   Property crime                        7937 non-null   object \n",
      " 8   Burglary                              7937 non-null   object \n",
      " 9   Larceny-theft                         7937 non-null   object \n",
      " 10  Motor vehicle theft                   7937 non-null   object \n",
      " 11  Arson2                                7937 non-null   object \n",
      "dtypes: float64(1), object(11)\n",
      "memory usage: 806.1+ KB\n"
     ]
    }
   ],
   "source": [
    "df.info()"
   ]
  },
  {
   "cell_type": "code",
   "execution_count": 10,
   "id": "a2ccb9eb",
   "metadata": {},
   "outputs": [
    {
     "data": {
      "text/html": [
       "<div>\n",
       "<style scoped>\n",
       "    .dataframe tbody tr th:only-of-type {\n",
       "        vertical-align: middle;\n",
       "    }\n",
       "\n",
       "    .dataframe tbody tr th {\n",
       "        vertical-align: top;\n",
       "    }\n",
       "\n",
       "    .dataframe thead th {\n",
       "        text-align: right;\n",
       "    }\n",
       "</style>\n",
       "<table border=\"1\" class=\"dataframe\">\n",
       "  <thead>\n",
       "    <tr style=\"text-align: right;\">\n",
       "      <th></th>\n",
       "      <th>Murder and nonnegligent manslaughter</th>\n",
       "    </tr>\n",
       "  </thead>\n",
       "  <tbody>\n",
       "    <tr>\n",
       "      <th>count</th>\n",
       "      <td>7937.000000</td>\n",
       "    </tr>\n",
       "    <tr>\n",
       "      <th>mean</th>\n",
       "      <td>1.237369</td>\n",
       "    </tr>\n",
       "    <tr>\n",
       "      <th>std</th>\n",
       "      <td>10.766028</td>\n",
       "    </tr>\n",
       "    <tr>\n",
       "      <th>min</th>\n",
       "      <td>0.000000</td>\n",
       "    </tr>\n",
       "    <tr>\n",
       "      <th>25%</th>\n",
       "      <td>0.000000</td>\n",
       "    </tr>\n",
       "    <tr>\n",
       "      <th>50%</th>\n",
       "      <td>0.000000</td>\n",
       "    </tr>\n",
       "    <tr>\n",
       "      <th>75%</th>\n",
       "      <td>0.000000</td>\n",
       "    </tr>\n",
       "    <tr>\n",
       "      <th>max</th>\n",
       "      <td>492.000000</td>\n",
       "    </tr>\n",
       "  </tbody>\n",
       "</table>\n",
       "</div>"
      ],
      "text/plain": [
       "       Murder and nonnegligent manslaughter\n",
       "count                           7937.000000\n",
       "mean                               1.237369\n",
       "std                               10.766028\n",
       "min                                0.000000\n",
       "25%                                0.000000\n",
       "50%                                0.000000\n",
       "75%                                0.000000\n",
       "max                              492.000000"
      ]
     },
     "execution_count": 10,
     "metadata": {},
     "output_type": "execute_result"
    }
   ],
   "source": [
    "df.describe()"
   ]
  },
  {
   "cell_type": "code",
   "execution_count": null,
   "id": "99733b46",
   "metadata": {},
   "outputs": [],
   "source": []
  },
  {
   "cell_type": "code",
   "execution_count": null,
   "id": "ad3c9378",
   "metadata": {},
   "outputs": [],
   "source": []
  },
  {
   "cell_type": "code",
   "execution_count": null,
   "id": "5794b779",
   "metadata": {},
   "outputs": [],
   "source": []
  },
  {
   "cell_type": "code",
   "execution_count": null,
   "id": "9faa8e04",
   "metadata": {},
   "outputs": [],
   "source": []
  },
  {
   "cell_type": "code",
   "execution_count": null,
   "id": "34af5829",
   "metadata": {},
   "outputs": [],
   "source": []
  },
  {
   "cell_type": "code",
   "execution_count": 11,
   "id": "055fc1fa",
   "metadata": {},
   "outputs": [],
   "source": [
    "violent_crimes = pd.DataFrame(np.random.rand(10, 9), columns=[\"Murder and nonnegligent manslaughter\", \"Rape1\", \"Robbery\", \"Aggravat assault\",\"Property crime\",\"Burglary\",\"Larceny-theft\",\"Motor vehicle theft\",\"Arson2\"])"
   ]
  },
  {
   "cell_type": "code",
   "execution_count": 12,
   "id": "95612dd0",
   "metadata": {},
   "outputs": [
    {
     "data": {
      "text/plain": [
       "Text(0, 0.5, 'Number of Crimes')"
      ]
     },
     "execution_count": 12,
     "metadata": {},
     "output_type": "execute_result"
    },
    {
     "data": {
      "image/png": "[encoded data removed]",
      "text/plain": [
       "<Figure size 432x288 with 1 Axes>"
      ]
     },
     "metadata": {
      "needs_background": "light"
     },
     "output_type": "display_data"
    }
   ],
   "source": [
    "violent_crimes.plot.bar();\n",
    "plt.xlabel('City')\n",
    "plt.ylabel('Number of Crimes')"
   ]
  },
  {
   "cell_type": "code",
   "execution_count": 13,
   "id": "9ab2c999",
   "metadata": {},
   "outputs": [],
   "source": [
    "series = pd.Series(3 * np.random.rand(9), index=[\"Murder and nonnegligent manslaughter\", \"Rape1\", \"Robbery\", \"Aggravat assault\",\"Property crime\",\"Burglary\",\"Larceny-theft\",\"Motor vehicle theft\",\"Arson2\"], name=\"series\")"
   ]
  },
  {
   "cell_type": "code",
   "execution_count": 14,
   "id": "b2629477",
   "metadata": {},
   "outputs": [
    {
     "data": {
      "image/png": "[encoded data removed]",
      "text/plain": [
       "<Figure size 720x720 with 1 Axes>"
      ]
     },
     "metadata": {},
     "output_type": "display_data"
    }
   ],
   "source": [
    "series.plot.pie(figsize=(10, 10),autopct=\"%.2f\");"
   ]
  },
  {
   "cell_type": "code",
   "execution_count": null,
   "id": "10710a94",
   "metadata": {},
   "outputs": [],
   "source": []
  },
  {
   "cell_type": "code",
   "execution_count": null,
   "id": "416be7b2",
   "metadata": {},
   "outputs": [],
   "source": []
  },
  {
   "cell_type": "code",
   "execution_count": null,
   "id": "3323eece",
   "metadata": {},
   "outputs": [],
   "source": []
  },
  {
   "cell_type": "code",
   "execution_count": null,
   "id": "cc7b89fa",
   "metadata": {},
   "outputs": [],
   "source": []
  },
  {
   "cell_type": "code",
   "execution_count": null,
   "id": "aec8afdf",
   "metadata": {},
   "outputs": [],
   "source": []
  },
  {
   "cell_type": "code",
   "execution_count": null,
   "id": "a99314d1",
   "metadata": {},
   "outputs": [],
   "source": []
  },
  {
   "cell_type": "code",
   "execution_count": null,
   "id": "53f0c4d0",
   "metadata": {},
   "outputs": [],
   "source": []
  },
  {
   "cell_type": "code",
   "execution_count": null,
   "id": "6a46afd0",
   "metadata": {},
   "outputs": [],
   "source": []
  },
  {
   "cell_type": "code",
   "execution_count": null,
   "id": "b25b1596",
   "metadata": {},
   "outputs": [],
   "source": []
  },
  {
   "cell_type": "code",
   "execution_count": null,
   "id": "333d9fa6",
   "metadata": {},
   "outputs": [],
   "source": []
  }
 ],
 "metadata": {
  "kernelspec": {
   "display_name": "Python 3 (ipykernel)",
   "language": "python",
   "name": "python3"
  },
  "language_info": {
   "codemirror_mode": {
    "name": "ipython",
    "version": 3
   },
   "file_extension": ".py",
   "mimetype": "text/x-python",
   "name": "python",
   "nbconvert_exporter": "python",
   "pygments_lexer": "ipython3",
   "version": "3.10.0"
  }
 },
 "nbformat": 4,
 "nbformat_minor": 5
}
