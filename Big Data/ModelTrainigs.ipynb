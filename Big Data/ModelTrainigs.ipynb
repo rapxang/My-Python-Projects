{
 "cells": [
  {
   "cell_type": "code",
   "execution_count": 1,
   "id": "bb10a969",
   "metadata": {},
   "outputs": [],
   "source": [
    "import pandas as pd\n",
    "import numpy as np\n",
    "import matplotlib.pyplot as plt\n",
    "%matplotlib inline\n",
    "import warnings\n",
    "warnings.filterwarnings('ignore')"
   ]
  },
  {
   "cell_type": "code",
   "execution_count": 2,
   "id": "90986d0b",
   "metadata": {},
   "outputs": [
    {
     "data": {
      "text/html": [
       "<div>\n",
       "<style scoped>\n",
       "    .dataframe tbody tr th:only-of-type {\n",
       "        vertical-align: middle;\n",
       "    }\n",
       "\n",
       "    .dataframe tbody tr th {\n",
       "        vertical-align: top;\n",
       "    }\n",
       "\n",
       "    .dataframe thead th {\n",
       "        text-align: right;\n",
       "    }\n",
       "</style>\n",
       "<table border=\"1\" class=\"dataframe\">\n",
       "  <thead>\n",
       "    <tr style=\"text-align: right;\">\n",
       "      <th></th>\n",
       "      <th>City</th>\n",
       "      <th>Population</th>\n",
       "      <th>Violent crime</th>\n",
       "      <th>Murder and nonnegligent manslaughter</th>\n",
       "      <th>Rape1</th>\n",
       "      <th>Robbery</th>\n",
       "      <th>Aggravated assault</th>\n",
       "      <th>Property crime</th>\n",
       "      <th>Burglary</th>\n",
       "      <th>Larceny-theft</th>\n",
       "      <th>Motor vehicle theft</th>\n",
       "      <th>Arson2</th>\n",
       "    </tr>\n",
       "  </thead>\n",
       "  <tbody>\n",
       "    <tr>\n",
       "      <th>0</th>\n",
       "      <td>New York</td>\n",
       "      <td>8379043.0</td>\n",
       "      <td>47821.0</td>\n",
       "      <td>319.0</td>\n",
       "      <td>2770.0</td>\n",
       "      <td>13396.0</td>\n",
       "      <td>31336.0</td>\n",
       "      <td>122299.0</td>\n",
       "      <td>9846.0</td>\n",
       "      <td>106931.0</td>\n",
       "      <td>5522.0</td>\n",
       "      <td>NaN</td>\n",
       "    </tr>\n",
       "    <tr>\n",
       "      <th>1</th>\n",
       "      <td>Los Angeles</td>\n",
       "      <td>8379043.0</td>\n",
       "      <td>29400.0</td>\n",
       "      <td>258.0</td>\n",
       "      <td>2274.0</td>\n",
       "      <td>9652.0</td>\n",
       "      <td>17216.0</td>\n",
       "      <td>95704.0</td>\n",
       "      <td>13809.0</td>\n",
       "      <td>66253.0</td>\n",
       "      <td>15642.0</td>\n",
       "      <td>1672.0</td>\n",
       "    </tr>\n",
       "    <tr>\n",
       "      <th>2</th>\n",
       "      <td>Chicago</td>\n",
       "      <td>8379043.0</td>\n",
       "      <td>25532.0</td>\n",
       "      <td>492.0</td>\n",
       "      <td>1761.0</td>\n",
       "      <td>7983.0</td>\n",
       "      <td>15296.0</td>\n",
       "      <td>80742.0</td>\n",
       "      <td>9578.0</td>\n",
       "      <td>62083.0</td>\n",
       "      <td>9081.0</td>\n",
       "      <td>416.0</td>\n",
       "    </tr>\n",
       "    <tr>\n",
       "      <th>3</th>\n",
       "      <td>Houston</td>\n",
       "      <td>8379043.0</td>\n",
       "      <td>25257.0</td>\n",
       "      <td>275.0</td>\n",
       "      <td>1249.0</td>\n",
       "      <td>9147.0</td>\n",
       "      <td>14586.0</td>\n",
       "      <td>101750.0</td>\n",
       "      <td>17038.0</td>\n",
       "      <td>71614.0</td>\n",
       "      <td>13098.0</td>\n",
       "      <td>485.0</td>\n",
       "    </tr>\n",
       "    <tr>\n",
       "      <th>4</th>\n",
       "      <td>Detroit</td>\n",
       "      <td>8379043.0</td>\n",
       "      <td>13040.0</td>\n",
       "      <td>275.0</td>\n",
       "      <td>952.0</td>\n",
       "      <td>2346.0</td>\n",
       "      <td>9467.0</td>\n",
       "      <td>28550.0</td>\n",
       "      <td>6820.0</td>\n",
       "      <td>14844.0</td>\n",
       "      <td>6886.0</td>\n",
       "      <td>789.0</td>\n",
       "    </tr>\n",
       "  </tbody>\n",
       "</table>\n",
       "</div>"
      ],
      "text/plain": [
       "          City  Population  Violent crime  \\\n",
       "0     New York   8379043.0        47821.0   \n",
       "1  Los Angeles   8379043.0        29400.0   \n",
       "2      Chicago   8379043.0        25532.0   \n",
       "3      Houston   8379043.0        25257.0   \n",
       "4      Detroit   8379043.0        13040.0   \n",
       "\n",
       "   Murder and nonnegligent manslaughter   Rape1  Robbery  Aggravated assault  \\\n",
       "0                                 319.0  2770.0  13396.0             31336.0   \n",
       "1                                 258.0  2274.0   9652.0             17216.0   \n",
       "2                                 492.0  1761.0   7983.0             15296.0   \n",
       "3                                 275.0  1249.0   9147.0             14586.0   \n",
       "4                                 275.0   952.0   2346.0              9467.0   \n",
       "\n",
       "   Property crime  Burglary  Larceny-theft  Motor vehicle theft  Arson2  \n",
       "0        122299.0    9846.0       106931.0               5522.0     NaN  \n",
       "1         95704.0   13809.0        66253.0              15642.0  1672.0  \n",
       "2         80742.0    9578.0        62083.0               9081.0   416.0  \n",
       "3        101750.0   17038.0        71614.0              13098.0   485.0  \n",
       "4         28550.0    6820.0        14844.0               6886.0   789.0  "
      ]
     },
     "execution_count": 2,
     "metadata": {},
     "output_type": "execute_result"
    }
   ],
   "source": [
    "crime_dataset = pd.read_csv(\"./US_Crime_Rate_2016.csv\")\n",
    "crime_dataset.head()"
   ]
  },
  {
   "cell_type": "code",
   "execution_count": 3,
   "id": "bf8f4917",
   "metadata": {},
   "outputs": [
    {
     "name": "stdout",
     "output_type": "stream",
     "text": [
      "<class 'pandas.core.frame.DataFrame'>\n",
      "RangeIndex: 8105 entries, 0 to 8104\n",
      "Data columns (total 12 columns):\n",
      " #   Column                                Non-Null Count  Dtype  \n",
      "---  ------                                --------------  -----  \n",
      " 0   City                                  8105 non-null   object \n",
      " 1   Population                            8103 non-null   float64\n",
      " 2   Violent crime                         8084 non-null   float64\n",
      " 3   Murder and nonnegligent manslaughter  8102 non-null   float64\n",
      " 4   Rape1                                 8090 non-null   float64\n",
      " 5   Robbery                               8104 non-null   float64\n",
      " 6   Aggravated assault                    8103 non-null   float64\n",
      " 7   Property crime                        8082 non-null   float64\n",
      " 8   Burglary                              8092 non-null   float64\n",
      " 9   Larceny-theft                         8098 non-null   float64\n",
      " 10  Motor vehicle theft                   8102 non-null   float64\n",
      " 11  Arson2                                7979 non-null   float64\n",
      "dtypes: float64(11), object(1)\n",
      "memory usage: 760.0+ KB\n"
     ]
    }
   ],
   "source": [
    "crime_dataset.info()"
   ]
  },
  {
   "cell_type": "code",
   "execution_count": 4,
   "id": "4e105870",
   "metadata": {},
   "outputs": [],
   "source": [
    "crime_dataset.dropna(inplace=True)"
   ]
  },
  {
   "cell_type": "code",
   "execution_count": 5,
   "id": "7089e7c6",
   "metadata": {},
   "outputs": [
    {
     "name": "stdout",
     "output_type": "stream",
     "text": [
      "<class 'pandas.core.frame.DataFrame'>\n",
      "Int64Index: 7937 entries, 1 to 8083\n",
      "Data columns (total 12 columns):\n",
      " #   Column                                Non-Null Count  Dtype  \n",
      "---  ------                                --------------  -----  \n",
      " 0   City                                  7937 non-null   object \n",
      " 1   Population                            7937 non-null   float64\n",
      " 2   Violent crime                         7937 non-null   float64\n",
      " 3   Murder and nonnegligent manslaughter  7937 non-null   float64\n",
      " 4   Rape1                                 7937 non-null   float64\n",
      " 5   Robbery                               7937 non-null   float64\n",
      " 6   Aggravated assault                    7937 non-null   float64\n",
      " 7   Property crime                        7937 non-null   float64\n",
      " 8   Burglary                              7937 non-null   float64\n",
      " 9   Larceny-theft                         7937 non-null   float64\n",
      " 10  Motor vehicle theft                   7937 non-null   float64\n",
      " 11  Arson2                                7937 non-null   float64\n",
      "dtypes: float64(11), object(1)\n",
      "memory usage: 806.1+ KB\n"
     ]
    }
   ],
   "source": [
    "crime_dataset.info()"
   ]
  },
  {
   "cell_type": "code",
   "execution_count": 6,
   "id": "abb5328c",
   "metadata": {},
   "outputs": [
    {
     "data": {
      "text/html": [
       "<div>\n",
       "<style scoped>\n",
       "    .dataframe tbody tr th:only-of-type {\n",
       "        vertical-align: middle;\n",
       "    }\n",
       "\n",
       "    .dataframe tbody tr th {\n",
       "        vertical-align: top;\n",
       "    }\n",
       "\n",
       "    .dataframe thead th {\n",
       "        text-align: right;\n",
       "    }\n",
       "</style>\n",
       "<table border=\"1\" class=\"dataframe\">\n",
       "  <thead>\n",
       "    <tr style=\"text-align: right;\">\n",
       "      <th></th>\n",
       "      <th>count</th>\n",
       "      <th>mean</th>\n",
       "      <th>std</th>\n",
       "      <th>min</th>\n",
       "      <th>25%</th>\n",
       "      <th>50%</th>\n",
       "      <th>75%</th>\n",
       "      <th>max</th>\n",
       "    </tr>\n",
       "  </thead>\n",
       "  <tbody>\n",
       "    <tr>\n",
       "      <th>Population</th>\n",
       "      <td>7937.0</td>\n",
       "      <td>7.182187e+06</td>\n",
       "      <td>2.931657e+06</td>\n",
       "      <td>5.0</td>\n",
       "      <td>8379043.0</td>\n",
       "      <td>8379043.0</td>\n",
       "      <td>8379043.0</td>\n",
       "      <td>8379043.0</td>\n",
       "    </tr>\n",
       "    <tr>\n",
       "      <th>Violent crime</th>\n",
       "      <td>7937.0</td>\n",
       "      <td>9.609223e+01</td>\n",
       "      <td>7.105056e+02</td>\n",
       "      <td>0.0</td>\n",
       "      <td>2.0</td>\n",
       "      <td>10.0</td>\n",
       "      <td>37.0</td>\n",
       "      <td>29400.0</td>\n",
       "    </tr>\n",
       "    <tr>\n",
       "      <th>Murder and nonnegligent manslaughter</th>\n",
       "      <td>7937.0</td>\n",
       "      <td>1.237369e+00</td>\n",
       "      <td>1.076603e+01</td>\n",
       "      <td>0.0</td>\n",
       "      <td>0.0</td>\n",
       "      <td>0.0</td>\n",
       "      <td>0.0</td>\n",
       "      <td>492.0</td>\n",
       "    </tr>\n",
       "    <tr>\n",
       "      <th>Rape1</th>\n",
       "      <td>7937.0</td>\n",
       "      <td>1.041729e+01</td>\n",
       "      <td>5.693671e+01</td>\n",
       "      <td>0.0</td>\n",
       "      <td>0.0</td>\n",
       "      <td>2.0</td>\n",
       "      <td>6.0</td>\n",
       "      <td>2274.0</td>\n",
       "    </tr>\n",
       "    <tr>\n",
       "      <th>Robbery</th>\n",
       "      <td>7937.0</td>\n",
       "      <td>2.305783e+01</td>\n",
       "      <td>2.205844e+02</td>\n",
       "      <td>0.0</td>\n",
       "      <td>0.0</td>\n",
       "      <td>1.0</td>\n",
       "      <td>5.0</td>\n",
       "      <td>9652.0</td>\n",
       "    </tr>\n",
       "    <tr>\n",
       "      <th>Aggravated assault</th>\n",
       "      <td>7937.0</td>\n",
       "      <td>6.137974e+01</td>\n",
       "      <td>4.368741e+02</td>\n",
       "      <td>0.0</td>\n",
       "      <td>1.0</td>\n",
       "      <td>6.0</td>\n",
       "      <td>24.0</td>\n",
       "      <td>17216.0</td>\n",
       "    </tr>\n",
       "    <tr>\n",
       "      <th>Property crime</th>\n",
       "      <td>7937.0</td>\n",
       "      <td>5.546392e+02</td>\n",
       "      <td>2.898715e+03</td>\n",
       "      <td>0.0</td>\n",
       "      <td>22.0</td>\n",
       "      <td>83.0</td>\n",
       "      <td>326.0</td>\n",
       "      <td>101750.0</td>\n",
       "    </tr>\n",
       "    <tr>\n",
       "      <th>Burglary</th>\n",
       "      <td>7937.0</td>\n",
       "      <td>8.377258e+01</td>\n",
       "      <td>4.609848e+02</td>\n",
       "      <td>0.0</td>\n",
       "      <td>3.0</td>\n",
       "      <td>12.0</td>\n",
       "      <td>46.0</td>\n",
       "      <td>17038.0</td>\n",
       "    </tr>\n",
       "    <tr>\n",
       "      <th>Larceny-theft</th>\n",
       "      <td>7937.0</td>\n",
       "      <td>4.109727e+02</td>\n",
       "      <td>2.067731e+03</td>\n",
       "      <td>0.0</td>\n",
       "      <td>16.0</td>\n",
       "      <td>63.0</td>\n",
       "      <td>254.0</td>\n",
       "      <td>71614.0</td>\n",
       "    </tr>\n",
       "    <tr>\n",
       "      <th>Motor vehicle theft</th>\n",
       "      <td>7937.0</td>\n",
       "      <td>5.989391e+01</td>\n",
       "      <td>4.103550e+02</td>\n",
       "      <td>0.0</td>\n",
       "      <td>1.0</td>\n",
       "      <td>5.0</td>\n",
       "      <td>20.0</td>\n",
       "      <td>15642.0</td>\n",
       "    </tr>\n",
       "    <tr>\n",
       "      <th>Arson2</th>\n",
       "      <td>7937.0</td>\n",
       "      <td>2.996598e+00</td>\n",
       "      <td>2.570568e+01</td>\n",
       "      <td>0.0</td>\n",
       "      <td>0.0</td>\n",
       "      <td>0.0</td>\n",
       "      <td>1.0</td>\n",
       "      <td>1672.0</td>\n",
       "    </tr>\n",
       "  </tbody>\n",
       "</table>\n",
       "</div>"
      ],
      "text/plain": [
       "                                       count          mean           std  min  \\\n",
       "Population                            7937.0  7.182187e+06  2.931657e+06  5.0   \n",
       "Violent crime                         7937.0  9.609223e+01  7.105056e+02  0.0   \n",
       "Murder and nonnegligent manslaughter  7937.0  1.237369e+00  1.076603e+01  0.0   \n",
       "Rape1                                 7937.0  1.041729e+01  5.693671e+01  0.0   \n",
       "Robbery                               7937.0  2.305783e+01  2.205844e+02  0.0   \n",
       "Aggravated assault                    7937.0  6.137974e+01  4.368741e+02  0.0   \n",
       "Property crime                        7937.0  5.546392e+02  2.898715e+03  0.0   \n",
       "Burglary                              7937.0  8.377258e+01  4.609848e+02  0.0   \n",
       "Larceny-theft                         7937.0  4.109727e+02  2.067731e+03  0.0   \n",
       "Motor vehicle theft                   7937.0  5.989391e+01  4.103550e+02  0.0   \n",
       "Arson2                                7937.0  2.996598e+00  2.570568e+01  0.0   \n",
       "\n",
       "                                            25%        50%        75%  \\\n",
       "Population                            8379043.0  8379043.0  8379043.0   \n",
       "Violent crime                               2.0       10.0       37.0   \n",
       "Murder and nonnegligent manslaughter        0.0        0.0        0.0   \n",
       "Rape1                                       0.0        2.0        6.0   \n",
       "Robbery                                     0.0        1.0        5.0   \n",
       "Aggravated assault                          1.0        6.0       24.0   \n",
       "Property crime                             22.0       83.0      326.0   \n",
       "Burglary                                    3.0       12.0       46.0   \n",
       "Larceny-theft                              16.0       63.0      254.0   \n",
       "Motor vehicle theft                         1.0        5.0       20.0   \n",
       "Arson2                                      0.0        0.0        1.0   \n",
       "\n",
       "                                            max  \n",
       "Population                            8379043.0  \n",
       "Violent crime                           29400.0  \n",
       "Murder and nonnegligent manslaughter      492.0  \n",
       "Rape1                                    2274.0  \n",
       "Robbery                                  9652.0  \n",
       "Aggravated assault                      17216.0  \n",
       "Property crime                         101750.0  \n",
       "Burglary                                17038.0  \n",
       "Larceny-theft                           71614.0  \n",
       "Motor vehicle theft                     15642.0  \n",
       "Arson2                                   1672.0  "
      ]
     },
     "execution_count": 6,
     "metadata": {},
     "output_type": "execute_result"
    }
   ],
   "source": [
    "crime_dataset.describe().T"
   ]
  },
  {
   "cell_type": "code",
   "execution_count": 7,
   "id": "e0c4ade2",
   "metadata": {},
   "outputs": [
    {
     "data": {
      "text/html": [
       "<div>\n",
       "<style scoped>\n",
       "    .dataframe tbody tr th:only-of-type {\n",
       "        vertical-align: middle;\n",
       "    }\n",
       "\n",
       "    .dataframe tbody tr th {\n",
       "        vertical-align: top;\n",
       "    }\n",
       "\n",
       "    .dataframe thead th {\n",
       "        text-align: right;\n",
       "    }\n",
       "</style>\n",
       "<table border=\"1\" class=\"dataframe\">\n",
       "  <thead>\n",
       "    <tr style=\"text-align: right;\">\n",
       "      <th></th>\n",
       "      <th>City</th>\n",
       "      <th>Population</th>\n",
       "      <th>Violent crime</th>\n",
       "    </tr>\n",
       "  </thead>\n",
       "  <tbody>\n",
       "    <tr>\n",
       "      <th>1</th>\n",
       "      <td>Los Angeles</td>\n",
       "      <td>8379043.0</td>\n",
       "      <td>29400.0</td>\n",
       "    </tr>\n",
       "    <tr>\n",
       "      <th>2</th>\n",
       "      <td>Chicago</td>\n",
       "      <td>8379043.0</td>\n",
       "      <td>25532.0</td>\n",
       "    </tr>\n",
       "    <tr>\n",
       "      <th>3</th>\n",
       "      <td>Houston</td>\n",
       "      <td>8379043.0</td>\n",
       "      <td>25257.0</td>\n",
       "    </tr>\n",
       "    <tr>\n",
       "      <th>4</th>\n",
       "      <td>Detroit</td>\n",
       "      <td>8379043.0</td>\n",
       "      <td>13040.0</td>\n",
       "    </tr>\n",
       "    <tr>\n",
       "      <th>5</th>\n",
       "      <td>Memphis</td>\n",
       "      <td>8379043.0</td>\n",
       "      <td>12367.0</td>\n",
       "    </tr>\n",
       "  </tbody>\n",
       "</table>\n",
       "</div>"
      ],
      "text/plain": [
       "          City  Population  Violent crime\n",
       "1  Los Angeles   8379043.0        29400.0\n",
       "2      Chicago   8379043.0        25532.0\n",
       "3      Houston   8379043.0        25257.0\n",
       "4      Detroit   8379043.0        13040.0\n",
       "5      Memphis   8379043.0        12367.0"
      ]
     },
     "execution_count": 7,
     "metadata": {},
     "output_type": "execute_result"
    }
   ],
   "source": [
    "subdata=crime_dataset[['City','Population','Violent crime']]\n",
    "subdata.head()\n"
   ]
  },
  {
   "cell_type": "code",
   "execution_count": 8,
   "id": "8dfba955",
   "metadata": {},
   "outputs": [
    {
     "data": {
      "text/plain": [
       "array(['Los Angeles', 'Chicago', 'Houston', ..., 'Greybull', 'Hanna',\n",
       "       'Lander'], dtype=object)"
      ]
     },
     "execution_count": 8,
     "metadata": {},
     "output_type": "execute_result"
    }
   ],
   "source": [
    "subdata.City.unique()"
   ]
  },
  {
   "cell_type": "code",
   "execution_count": 9,
   "id": "c96cdde7",
   "metadata": {},
   "outputs": [],
   "source": [
    "from sklearn.preprocessing import LabelEncoder"
   ]
  },
  {
   "cell_type": "code",
   "execution_count": 10,
   "id": "1d755b53",
   "metadata": {},
   "outputs": [],
   "source": [
    "le = LabelEncoder()"
   ]
  },
  {
   "cell_type": "code",
   "execution_count": 11,
   "id": "f6390d51",
   "metadata": {},
   "outputs": [],
   "source": [
    "subdata.iloc[:,0]=le.fit_transform(subdata.iloc[:,0])"
   ]
  },
  {
   "cell_type": "code",
   "execution_count": 12,
   "id": "bb6da736",
   "metadata": {},
   "outputs": [
    {
     "data": {
      "text/html": [
       "<div>\n",
       "<style scoped>\n",
       "    .dataframe tbody tr th:only-of-type {\n",
       "        vertical-align: middle;\n",
       "    }\n",
       "\n",
       "    .dataframe tbody tr th {\n",
       "        vertical-align: top;\n",
       "    }\n",
       "\n",
       "    .dataframe thead th {\n",
       "        text-align: right;\n",
       "    }\n",
       "</style>\n",
       "<table border=\"1\" class=\"dataframe\">\n",
       "  <thead>\n",
       "    <tr style=\"text-align: right;\">\n",
       "      <th></th>\n",
       "      <th>City</th>\n",
       "      <th>Population</th>\n",
       "      <th>Violent crime</th>\n",
       "    </tr>\n",
       "  </thead>\n",
       "  <tbody>\n",
       "    <tr>\n",
       "      <th>1</th>\n",
       "      <td>3182</td>\n",
       "      <td>8379043.0</td>\n",
       "      <td>29400.0</td>\n",
       "    </tr>\n",
       "    <tr>\n",
       "      <th>2</th>\n",
       "      <td>992</td>\n",
       "      <td>8379043.0</td>\n",
       "      <td>25532.0</td>\n",
       "    </tr>\n",
       "    <tr>\n",
       "      <th>3</th>\n",
       "      <td>2566</td>\n",
       "      <td>8379043.0</td>\n",
       "      <td>25257.0</td>\n",
       "    </tr>\n",
       "    <tr>\n",
       "      <th>4</th>\n",
       "      <td>1407</td>\n",
       "      <td>8379043.0</td>\n",
       "      <td>13040.0</td>\n",
       "    </tr>\n",
       "    <tr>\n",
       "      <th>5</th>\n",
       "      <td>3467</td>\n",
       "      <td>8379043.0</td>\n",
       "      <td>12367.0</td>\n",
       "    </tr>\n",
       "    <tr>\n",
       "      <th>6</th>\n",
       "      <td>4374</td>\n",
       "      <td>8379043.0</td>\n",
       "      <td>11803.0</td>\n",
       "    </tr>\n",
       "    <tr>\n",
       "      <th>7</th>\n",
       "      <td>1299</td>\n",
       "      <td>8379043.0</td>\n",
       "      <td>11764.0</td>\n",
       "    </tr>\n",
       "    <tr>\n",
       "      <th>8</th>\n",
       "      <td>254</td>\n",
       "      <td>8379043.0</td>\n",
       "      <td>11101.0</td>\n",
       "    </tr>\n",
       "    <tr>\n",
       "      <th>9</th>\n",
       "      <td>4906</td>\n",
       "      <td>8379043.0</td>\n",
       "      <td>11046.0</td>\n",
       "    </tr>\n",
       "    <tr>\n",
       "      <th>10</th>\n",
       "      <td>3014</td>\n",
       "      <td>8379043.0</td>\n",
       "      <td>8854.0</td>\n",
       "    </tr>\n",
       "  </tbody>\n",
       "</table>\n",
       "</div>"
      ],
      "text/plain": [
       "    City  Population  Violent crime\n",
       "1   3182   8379043.0        29400.0\n",
       "2    992   8379043.0        25532.0\n",
       "3   2566   8379043.0        25257.0\n",
       "4   1407   8379043.0        13040.0\n",
       "5   3467   8379043.0        12367.0\n",
       "6   4374   8379043.0        11803.0\n",
       "7   1299   8379043.0        11764.0\n",
       "8    254   8379043.0        11101.0\n",
       "9   4906   8379043.0        11046.0\n",
       "10  3014   8379043.0         8854.0"
      ]
     },
     "execution_count": 12,
     "metadata": {},
     "output_type": "execute_result"
    }
   ],
   "source": [
    "subdata.head(10)"
   ]
  },
  {
   "cell_type": "code",
   "execution_count": null,
   "id": "d0263de7",
   "metadata": {},
   "outputs": [],
   "source": []
  },
  {
   "cell_type": "code",
   "execution_count": 13,
   "id": "ed2fda24",
   "metadata": {},
   "outputs": [],
   "source": [
    "x = subdata.iloc[:,:-1]\n",
    "y = subdata.iloc[:,-1]"
   ]
  },
  {
   "cell_type": "code",
   "execution_count": 14,
   "id": "8ddebcfc",
   "metadata": {},
   "outputs": [
    {
     "data": {
      "text/html": [
       "<div>\n",
       "<style scoped>\n",
       "    .dataframe tbody tr th:only-of-type {\n",
       "        vertical-align: middle;\n",
       "    }\n",
       "\n",
       "    .dataframe tbody tr th {\n",
       "        vertical-align: top;\n",
       "    }\n",
       "\n",
       "    .dataframe thead th {\n",
       "        text-align: right;\n",
       "    }\n",
       "</style>\n",
       "<table border=\"1\" class=\"dataframe\">\n",
       "  <thead>\n",
       "    <tr style=\"text-align: right;\">\n",
       "      <th></th>\n",
       "      <th>City</th>\n",
       "      <th>Population</th>\n",
       "    </tr>\n",
       "  </thead>\n",
       "  <tbody>\n",
       "    <tr>\n",
       "      <th>1</th>\n",
       "      <td>3182</td>\n",
       "      <td>8379043.0</td>\n",
       "    </tr>\n",
       "    <tr>\n",
       "      <th>2</th>\n",
       "      <td>992</td>\n",
       "      <td>8379043.0</td>\n",
       "    </tr>\n",
       "    <tr>\n",
       "      <th>3</th>\n",
       "      <td>2566</td>\n",
       "      <td>8379043.0</td>\n",
       "    </tr>\n",
       "    <tr>\n",
       "      <th>4</th>\n",
       "      <td>1407</td>\n",
       "      <td>8379043.0</td>\n",
       "    </tr>\n",
       "    <tr>\n",
       "      <th>5</th>\n",
       "      <td>3467</td>\n",
       "      <td>8379043.0</td>\n",
       "    </tr>\n",
       "  </tbody>\n",
       "</table>\n",
       "</div>"
      ],
      "text/plain": [
       "   City  Population\n",
       "1  3182   8379043.0\n",
       "2   992   8379043.0\n",
       "3  2566   8379043.0\n",
       "4  1407   8379043.0\n",
       "5  3467   8379043.0"
      ]
     },
     "execution_count": 14,
     "metadata": {},
     "output_type": "execute_result"
    }
   ],
   "source": [
    "x.head()"
   ]
  },
  {
   "cell_type": "code",
   "execution_count": 15,
   "id": "a109b37c",
   "metadata": {},
   "outputs": [
    {
     "data": {
      "text/plain": [
       "1    29400.0\n",
       "2    25532.0\n",
       "3    25257.0\n",
       "4    13040.0\n",
       "5    12367.0\n",
       "Name: Violent crime, dtype: float64"
      ]
     },
     "execution_count": 15,
     "metadata": {},
     "output_type": "execute_result"
    }
   ],
   "source": [
    "y.head()"
   ]
  },
  {
   "cell_type": "code",
   "execution_count": 16,
   "id": "d9c38e0b",
   "metadata": {},
   "outputs": [],
   "source": [
    "# SPLITTING THE DATASET INTO TRAINING AND TESTING DATA SETS\n",
    "from sklearn.model_selection import train_test_split"
   ]
  },
  {
   "cell_type": "code",
   "execution_count": 17,
   "id": "c28bfd9d",
   "metadata": {},
   "outputs": [],
   "source": [
    "x_train,x_test,y_train,y_test = train_test_split(x,y,test_size=0.2,random_state=2)"
   ]
  },
  {
   "cell_type": "code",
   "execution_count": 18,
   "id": "85d3b7ee",
   "metadata": {},
   "outputs": [],
   "source": [
    "from sklearn.linear_model import LinearRegression"
   ]
  },
  {
   "cell_type": "code",
   "execution_count": 19,
   "id": "5261c730",
   "metadata": {},
   "outputs": [],
   "source": [
    "regressor = LinearRegression()"
   ]
  },
  {
   "cell_type": "code",
   "execution_count": 20,
   "id": "b763c573",
   "metadata": {},
   "outputs": [
    {
     "data": {
      "text/plain": [
       "LinearRegression()"
      ]
     },
     "execution_count": 20,
     "metadata": {},
     "output_type": "execute_result"
    }
   ],
   "source": [
    "regressor.fit(x_train,y_train)"
   ]
  },
  {
   "cell_type": "code",
   "execution_count": 21,
   "id": "9413437b",
   "metadata": {},
   "outputs": [],
   "source": [
    "y_pred = regressor.predict(x_test)"
   ]
  },
  {
   "cell_type": "code",
   "execution_count": 22,
   "id": "03a30dc0",
   "metadata": {},
   "outputs": [
    {
     "data": {
      "text/plain": [
       "array([120.26988665,   3.72941325, 111.7244329 , ..., 115.52500305,\n",
       "       114.98173137, 108.46247115])"
      ]
     },
     "execution_count": 22,
     "metadata": {},
     "output_type": "execute_result"
    }
   ],
   "source": [
    "y_pred"
   ]
  },
  {
   "cell_type": "code",
   "execution_count": 23,
   "id": "bace7323",
   "metadata": {},
   "outputs": [
    {
     "data": {
      "text/html": [
       "<div>\n",
       "<style scoped>\n",
       "    .dataframe tbody tr th:only-of-type {\n",
       "        vertical-align: middle;\n",
       "    }\n",
       "\n",
       "    .dataframe tbody tr th {\n",
       "        vertical-align: top;\n",
       "    }\n",
       "\n",
       "    .dataframe thead th {\n",
       "        text-align: right;\n",
       "    }\n",
       "</style>\n",
       "<table border=\"1\" class=\"dataframe\">\n",
       "  <thead>\n",
       "    <tr style=\"text-align: right;\">\n",
       "      <th></th>\n",
       "      <th>ACTUAL</th>\n",
       "      <th>PREDICTED</th>\n",
       "    </tr>\n",
       "  </thead>\n",
       "  <tbody>\n",
       "    <tr>\n",
       "      <th>760</th>\n",
       "      <td>147.0</td>\n",
       "      <td>120.269887</td>\n",
       "    </tr>\n",
       "    <tr>\n",
       "      <th>6969</th>\n",
       "      <td>1.0</td>\n",
       "      <td>3.729413</td>\n",
       "    </tr>\n",
       "    <tr>\n",
       "      <th>2465</th>\n",
       "      <td>27.0</td>\n",
       "      <td>111.724433</td>\n",
       "    </tr>\n",
       "    <tr>\n",
       "      <th>4566</th>\n",
       "      <td>7.0</td>\n",
       "      <td>115.863091</td>\n",
       "    </tr>\n",
       "    <tr>\n",
       "      <th>680</th>\n",
       "      <td>169.0</td>\n",
       "      <td>119.486456</td>\n",
       "    </tr>\n",
       "    <tr>\n",
       "      <th>...</th>\n",
       "      <td>...</td>\n",
       "      <td>...</td>\n",
       "    </tr>\n",
       "    <tr>\n",
       "      <th>7302</th>\n",
       "      <td>0.0</td>\n",
       "      <td>-0.565227</td>\n",
       "    </tr>\n",
       "    <tr>\n",
       "      <th>4526</th>\n",
       "      <td>7.0</td>\n",
       "      <td>113.731973</td>\n",
       "    </tr>\n",
       "    <tr>\n",
       "      <th>5514</th>\n",
       "      <td>4.0</td>\n",
       "      <td>115.525003</td>\n",
       "    </tr>\n",
       "    <tr>\n",
       "      <th>704</th>\n",
       "      <td>162.0</td>\n",
       "      <td>114.981731</td>\n",
       "    </tr>\n",
       "    <tr>\n",
       "      <th>5864</th>\n",
       "      <td>3.0</td>\n",
       "      <td>108.462471</td>\n",
       "    </tr>\n",
       "  </tbody>\n",
       "</table>\n",
       "<p>1588 rows × 2 columns</p>\n",
       "</div>"
      ],
      "text/plain": [
       "      ACTUAL   PREDICTED\n",
       "760    147.0  120.269887\n",
       "6969     1.0    3.729413\n",
       "2465    27.0  111.724433\n",
       "4566     7.0  115.863091\n",
       "680    169.0  119.486456\n",
       "...      ...         ...\n",
       "7302     0.0   -0.565227\n",
       "4526     7.0  113.731973\n",
       "5514     4.0  115.525003\n",
       "704    162.0  114.981731\n",
       "5864     3.0  108.462471\n",
       "\n",
       "[1588 rows x 2 columns]"
      ]
     },
     "execution_count": 23,
     "metadata": {},
     "output_type": "execute_result"
    }
   ],
   "source": [
    "pd.DataFrame(\n",
    "{\n",
    "    'ACTUAL':y_test,\n",
    "    'PREDICTED':y_pred\n",
    "})"
   ]
  },
  {
   "cell_type": "code",
   "execution_count": 24,
   "id": "e1b287e0",
   "metadata": {},
   "outputs": [],
   "source": [
    "from sklearn import metrics"
   ]
  },
  {
   "cell_type": "code",
   "execution_count": 25,
   "id": "59c94db9",
   "metadata": {},
   "outputs": [
    {
     "data": {
      "text/plain": [
       "129.17675550892895"
      ]
     },
     "execution_count": 25,
     "metadata": {},
     "output_type": "execute_result"
    }
   ],
   "source": [
    "metrics.mean_absolute_error(y_test,y_pred)"
   ]
  },
  {
   "cell_type": "code",
   "execution_count": 26,
   "id": "cac7cb4e",
   "metadata": {},
   "outputs": [
    {
     "data": {
      "text/plain": [
       "0.004175399510304323"
      ]
     },
     "execution_count": 26,
     "metadata": {},
     "output_type": "execute_result"
    }
   ],
   "source": [
    "metrics.r2_score(y_test,y_pred)"
   ]
  },
  {
   "cell_type": "code",
   "execution_count": null,
   "id": "a922ee00",
   "metadata": {},
   "outputs": [],
   "source": []
  },
  {
   "cell_type": "markdown",
   "id": "8ba6131e",
   "metadata": {},
   "source": [
    "# CLASSIFICATION IN MACHINE LEARNING"
   ]
  },
  {
   "cell_type": "code",
   "execution_count": 27,
   "id": "49f7f3a2",
   "metadata": {},
   "outputs": [],
   "source": [
    "from sklearn.linear_model import LogisticRegression\n",
    "model=LogisticRegression()"
   ]
  },
  {
   "cell_type": "code",
   "execution_count": 28,
   "id": "69fd729d",
   "metadata": {},
   "outputs": [
    {
     "data": {
      "text/plain": [
       "LogisticRegression()"
      ]
     },
     "execution_count": 28,
     "metadata": {},
     "output_type": "execute_result"
    }
   ],
   "source": [
    "model.fit(x_train,y_train)"
   ]
  },
  {
   "cell_type": "code",
   "execution_count": 29,
   "id": "4195c05a",
   "metadata": {},
   "outputs": [
    {
     "data": {
      "text/plain": [
       "array([2., 0., 1., ..., 1., 1., 1.])"
      ]
     },
     "execution_count": 29,
     "metadata": {},
     "output_type": "execute_result"
    }
   ],
   "source": [
    "model.predict(x_test)"
   ]
  },
  {
   "cell_type": "code",
   "execution_count": 30,
   "id": "f0f5de75",
   "metadata": {},
   "outputs": [
    {
     "name": "stdout",
     "output_type": "stream",
     "text": [
      "Accuracy of logistic regression classifier on test set is: 16.183879093198993\n"
     ]
    }
   ],
   "source": [
    "Y_predict=model.predict(x_test)\n",
    "print('Accuracy of logistic regression classifier on test set is:',((model.score(x_test,y_test)*100)))"
   ]
  },
  {
   "cell_type": "code",
   "execution_count": 31,
   "id": "4f9d39f4",
   "metadata": {},
   "outputs": [],
   "source": [
    "# from sklearn.metrics import confusion_matrix\n",
    "# import seaborn as sns\n",
    "# confusion_matrix=confusion_matrix(y_test,Y_predict)\n",
    "# plt.figure(figsize=(15,15))\n",
    "# sns.heatmap(data=confusion_matrix,linewidths=.5, annot=True,square = True,  cmap = 'Blues')\n",
    "# plt.ylabel('Actual label')\n",
    "# plt.xlabel('Predicted label')\n",
    "# all_sample_title = 'Accuracy Score: {0}'.format(model.score(x_test, y_test)*100)\n",
    "# plt.title(all_sample_title, size = 15)\n",
    "# print(confusion_matrix)"
   ]
  },
  {
   "cell_type": "code",
   "execution_count": 32,
   "id": "5a175c94",
   "metadata": {},
   "outputs": [],
   "source": [
    "from sklearn.neighbors import KNeighborsClassifier\n",
    "knn = KNeighborsClassifier(n_neighbors=3)"
   ]
  },
  {
   "cell_type": "code",
   "execution_count": 33,
   "id": "fe80b22a",
   "metadata": {},
   "outputs": [
    {
     "data": {
      "text/plain": [
       "KNeighborsClassifier(n_neighbors=3)"
      ]
     },
     "execution_count": 33,
     "metadata": {},
     "output_type": "execute_result"
    }
   ],
   "source": [
    "knn.fit(x_train,y_train)"
   ]
  },
  {
   "cell_type": "code",
   "execution_count": 34,
   "id": "ad7fbe99",
   "metadata": {},
   "outputs": [],
   "source": [
    "y_pred = knn.predict(x_test)"
   ]
  },
  {
   "cell_type": "code",
   "execution_count": 35,
   "id": "df752fc7",
   "metadata": {},
   "outputs": [
    {
     "name": "stdout",
     "output_type": "stream",
     "text": [
      "              precision    recall  f1-score   support\n",
      "\n",
      "         0.0       0.88      0.95      0.92       210\n",
      "         1.0       0.09      0.18      0.12       118\n",
      "         2.0       0.08      0.18      0.11       104\n",
      "         3.0       0.04      0.10      0.06        69\n",
      "         4.0       0.05      0.13      0.08        52\n",
      "         5.0       0.06      0.13      0.08        46\n",
      "         6.0       0.06      0.07      0.06        60\n",
      "         7.0       0.02      0.03      0.02        33\n",
      "         8.0       0.08      0.16      0.10        32\n",
      "         9.0       0.05      0.06      0.06        33\n",
      "        10.0       0.08      0.08      0.08        36\n",
      "        11.0       0.03      0.04      0.04        27\n",
      "        12.0       0.00      0.00      0.00        27\n",
      "        13.0       0.00      0.00      0.00        22\n",
      "        14.0       0.00      0.00      0.00        23\n",
      "        15.0       0.00      0.00      0.00        22\n",
      "        16.0       0.00      0.00      0.00        28\n",
      "        17.0       0.00      0.00      0.00        18\n",
      "        18.0       0.00      0.00      0.00         8\n",
      "        19.0       0.10      0.05      0.06        22\n",
      "        20.0       0.00      0.00      0.00        21\n",
      "        21.0       0.00      0.00      0.00        12\n",
      "        22.0       0.00      0.00      0.00        15\n",
      "        23.0       0.00      0.00      0.00        20\n",
      "        24.0       0.00      0.00      0.00         7\n",
      "        25.0       0.00      0.00      0.00        12\n",
      "        26.0       0.00      0.00      0.00        14\n",
      "        27.0       0.00      0.00      0.00        10\n",
      "        28.0       0.00      0.00      0.00        14\n",
      "        29.0       0.00      0.00      0.00        16\n",
      "        30.0       0.00      0.00      0.00        10\n",
      "        31.0       0.00      0.00      0.00         5\n",
      "        32.0       0.00      0.00      0.00         5\n",
      "        33.0       0.00      0.00      0.00        12\n",
      "        34.0       0.00      0.00      0.00         8\n",
      "        35.0       0.00      0.00      0.00         6\n",
      "        36.0       0.00      0.00      0.00         8\n",
      "        37.0       0.00      0.00      0.00         9\n",
      "        38.0       0.00      0.00      0.00         3\n",
      "        39.0       0.00      0.00      0.00         8\n",
      "        40.0       0.00      0.00      0.00         5\n",
      "        41.0       0.00      0.00      0.00         9\n",
      "        42.0       0.00      0.00      0.00         6\n",
      "        43.0       0.00      0.00      0.00         4\n",
      "        44.0       0.00      0.00      0.00         7\n",
      "        45.0       0.00      0.00      0.00         8\n",
      "        46.0       0.00      0.00      0.00         5\n",
      "        47.0       0.00      0.00      0.00         6\n",
      "        48.0       0.00      0.00      0.00         5\n",
      "        49.0       0.00      0.00      0.00         5\n",
      "        50.0       0.00      0.00      0.00         3\n",
      "        51.0       0.00      0.00      0.00         3\n",
      "        52.0       0.00      0.00      0.00         6\n",
      "        53.0       0.00      0.00      0.00         5\n",
      "        54.0       0.00      0.00      0.00        10\n",
      "        55.0       0.00      0.00      0.00         7\n",
      "        56.0       0.00      0.00      0.00         2\n",
      "        58.0       0.00      0.00      0.00         2\n",
      "        59.0       0.00      0.00      0.00         2\n",
      "        60.0       0.00      0.00      0.00         5\n",
      "        61.0       0.00      0.00      0.00         1\n",
      "        62.0       0.00      0.00      0.00         2\n",
      "        63.0       0.00      0.00      0.00         4\n",
      "        64.0       0.00      0.00      0.00         5\n",
      "        65.0       0.00      0.00      0.00         6\n",
      "        66.0       0.00      0.00      0.00         2\n",
      "        67.0       0.00      0.00      0.00         5\n",
      "        69.0       0.00      0.00      0.00         1\n",
      "        70.0       0.00      0.00      0.00         5\n",
      "        71.0       0.00      0.00      0.00         2\n",
      "        72.0       0.00      0.00      0.00         7\n",
      "        73.0       0.00      0.00      0.00         3\n",
      "        74.0       0.00      0.00      0.00         3\n",
      "        75.0       0.00      0.00      0.00         2\n",
      "        76.0       0.00      0.00      0.00         2\n",
      "        77.0       0.00      0.00      0.00         3\n",
      "        78.0       0.00      0.00      0.00         4\n",
      "        79.0       0.00      0.00      0.00         2\n",
      "        80.0       0.00      0.00      0.00         3\n",
      "        81.0       0.00      0.00      0.00         4\n",
      "        82.0       0.00      0.00      0.00         4\n",
      "        83.0       0.00      0.00      0.00         1\n",
      "        84.0       0.00      0.00      0.00         1\n",
      "        85.0       0.00      0.00      0.00         4\n",
      "        86.0       0.00      0.00      0.00         3\n",
      "        88.0       0.00      0.00      0.00         1\n",
      "        89.0       0.00      0.00      0.00         2\n",
      "        90.0       0.00      0.00      0.00         1\n",
      "        92.0       0.00      0.00      0.00         2\n",
      "        93.0       0.00      0.00      0.00         1\n",
      "        94.0       0.00      0.00      0.00         3\n",
      "        95.0       0.00      0.00      0.00         1\n",
      "        96.0       0.00      0.00      0.00         2\n",
      "        99.0       0.00      0.00      0.00         1\n",
      "       101.0       0.00      0.00      0.00         1\n",
      "       102.0       0.00      0.00      0.00         1\n",
      "       103.0       0.00      0.00      0.00         0\n",
      "       104.0       0.00      0.00      0.00         1\n",
      "       105.0       0.00      0.00      0.00         1\n",
      "       106.0       0.00      0.00      0.00         1\n",
      "       107.0       0.00      0.00      0.00         7\n",
      "       108.0       0.00      0.00      0.00         1\n",
      "       110.0       0.00      0.00      0.00         1\n",
      "       111.0       0.00      0.00      0.00         1\n",
      "       112.0       0.00      0.00      0.00         1\n",
      "       114.0       0.00      0.00      0.00         1\n",
      "       115.0       0.00      0.00      0.00         1\n",
      "       116.0       0.00      0.00      0.00         3\n",
      "       117.0       0.00      0.00      0.00         2\n",
      "       119.0       0.00      0.00      0.00         1\n",
      "       121.0       0.00      0.00      0.00         1\n",
      "       122.0       0.00      0.00      0.00         1\n",
      "       123.0       0.00      0.00      0.00         1\n",
      "       125.0       0.00      0.00      0.00         1\n",
      "       126.0       0.00      0.00      0.00         3\n",
      "       127.0       0.00      0.00      0.00         2\n",
      "       129.0       0.00      0.00      0.00         1\n",
      "       130.0       0.00      0.00      0.00         3\n",
      "       132.0       0.00      0.00      0.00         1\n",
      "       133.0       0.00      0.00      0.00         1\n",
      "       134.0       0.00      0.00      0.00         1\n",
      "       136.0       0.00      0.00      0.00         0\n",
      "       141.0       0.00      0.00      0.00         2\n",
      "       143.0       0.00      0.00      0.00         1\n",
      "       144.0       0.00      0.00      0.00         1\n",
      "       146.0       0.00      0.00      0.00         2\n",
      "       147.0       0.00      0.00      0.00         3\n",
      "       151.0       0.00      0.00      0.00         2\n",
      "       152.0       0.00      0.00      0.00         2\n",
      "       155.0       0.00      0.00      0.00         2\n",
      "       158.0       0.00      0.00      0.00         1\n",
      "       160.0       0.00      0.00      0.00         1\n",
      "       161.0       0.00      0.00      0.00         3\n",
      "       162.0       0.00      0.00      0.00         3\n",
      "       163.0       0.00      0.00      0.00         1\n",
      "       165.0       0.00      0.00      0.00         1\n",
      "       166.0       0.00      0.00      0.00         1\n",
      "       167.0       0.00      0.00      0.00         1\n",
      "       168.0       0.00      0.00      0.00         1\n",
      "       169.0       0.00      0.00      0.00         1\n",
      "       173.0       0.00      0.00      0.00         1\n",
      "       174.0       0.00      0.00      0.00         1\n",
      "       176.0       0.00      0.00      0.00         2\n",
      "       180.0       0.00      0.00      0.00         2\n",
      "       181.0       0.00      0.00      0.00         1\n",
      "       186.0       0.00      0.00      0.00         1\n",
      "       187.0       0.00      0.00      0.00         2\n",
      "       188.0       0.00      0.00      0.00         1\n",
      "       189.0       0.00      0.00      0.00         1\n",
      "       191.0       0.00      0.00      0.00         1\n",
      "       192.0       0.00      0.00      0.00         2\n",
      "       193.0       0.00      0.00      0.00         0\n",
      "       195.0       0.00      0.00      0.00         1\n",
      "       200.0       0.00      0.00      0.00         3\n",
      "       203.0       0.00      0.00      0.00         2\n",
      "       209.0       0.00      0.00      0.00         1\n",
      "       219.0       0.00      0.00      0.00         2\n",
      "       227.0       0.00      0.00      0.00         1\n",
      "       228.0       0.00      0.00      0.00         1\n",
      "       230.0       0.00      0.00      0.00         1\n",
      "       231.0       0.00      0.00      0.00         1\n",
      "       232.0       0.00      0.00      0.00         1\n",
      "       234.0       0.00      0.00      0.00         1\n",
      "       237.0       0.00      0.00      0.00         1\n",
      "       242.0       0.00      0.00      0.00         1\n",
      "       245.0       0.00      0.00      0.00         1\n",
      "       246.0       0.00      0.00      0.00         1\n",
      "       249.0       0.00      0.00      0.00         1\n",
      "       251.0       0.00      0.00      0.00         1\n",
      "       266.0       0.00      0.00      0.00         1\n",
      "       267.0       0.00      0.00      0.00         1\n",
      "       273.0       0.00      0.00      0.00         1\n",
      "       280.0       0.00      0.00      0.00         1\n",
      "       286.0       0.00      0.00      0.00         1\n",
      "       291.0       0.00      0.00      0.00         1\n",
      "       293.0       0.00      0.00      0.00         1\n",
      "       296.0       0.00      0.00      0.00         2\n",
      "       297.0       0.00      0.00      0.00         0\n",
      "       298.0       0.00      0.00      0.00         1\n",
      "       299.0       0.00      0.00      0.00         1\n",
      "       302.0       0.00      0.00      0.00         1\n",
      "       305.0       0.00      0.00      0.00         1\n",
      "       307.0       0.00      0.00      0.00         1\n",
      "       308.0       0.00      0.00      0.00         1\n",
      "       309.0       0.00      0.00      0.00         1\n",
      "       311.0       0.00      0.00      0.00         1\n",
      "       312.0       0.00      0.00      0.00         0\n",
      "       316.0       0.00      0.00      0.00         1\n",
      "       319.0       0.00      0.00      0.00         1\n",
      "       329.0       0.00      0.00      0.00         1\n",
      "       330.0       0.00      0.00      0.00         1\n",
      "       331.0       0.00      0.00      0.00         1\n",
      "       347.0       0.00      0.00      0.00         1\n",
      "       350.0       0.00      0.00      0.00         1\n",
      "       357.0       0.00      0.00      0.00         1\n",
      "       360.0       0.00      0.00      0.00         1\n",
      "       374.0       0.00      0.00      0.00         1\n",
      "       376.0       0.00      0.00      0.00         1\n",
      "       393.0       0.00      0.00      0.00         1\n",
      "       396.0       0.00      0.00      0.00         1\n",
      "       415.0       0.00      0.00      0.00         1\n",
      "       420.0       0.00      0.00      0.00         1\n",
      "       432.0       0.00      0.00      0.00         1\n",
      "       442.0       0.00      0.00      0.00         1\n",
      "       447.0       0.00      0.00      0.00         1\n",
      "       456.0       0.00      0.00      0.00         1\n",
      "       464.0       0.00      0.00      0.00         1\n",
      "       486.0       0.00      0.00      0.00         1\n",
      "       493.0       0.00      0.00      0.00         1\n",
      "       507.0       0.00      0.00      0.00         1\n",
      "       529.0       0.00      0.00      0.00         1\n",
      "       530.0       0.00      0.00      0.00         1\n",
      "       537.0       0.00      0.00      0.00         1\n",
      "       540.0       0.00      0.00      0.00         1\n",
      "       541.0       0.00      0.00      0.00         1\n",
      "       562.0       0.00      0.00      0.00         1\n",
      "       583.0       0.00      0.00      0.00         1\n",
      "       586.0       0.00      0.00      0.00         1\n",
      "       593.0       0.00      0.00      0.00         1\n",
      "       613.0       0.00      0.00      0.00         1\n",
      "       617.0       0.00      0.00      0.00         1\n",
      "       732.0       0.00      0.00      0.00         1\n",
      "       776.0       0.00      0.00      0.00         1\n",
      "       782.0       0.00      0.00      0.00         1\n",
      "       836.0       0.00      0.00      0.00         1\n",
      "       854.0       0.00      0.00      0.00         1\n",
      "       857.0       0.00      0.00      0.00         1\n",
      "       859.0       0.00      0.00      0.00         1\n",
      "       889.0       0.00      0.00      0.00         1\n",
      "       897.0       0.00      0.00      0.00         1\n",
      "       904.0       0.00      0.00      0.00         1\n",
      "       960.0       0.00      0.00      0.00         1\n",
      "      1037.0       0.00      0.00      0.00         1\n",
      "      1049.0       0.00      0.00      0.00         1\n",
      "      1199.0       0.00      0.00      0.00         1\n",
      "      1286.0       0.00      0.00      0.00         1\n",
      "      1419.0       0.00      0.00      0.00         1\n",
      "      1686.0       0.00      0.00      0.00         1\n",
      "      1742.0       0.00      0.00      0.00         1\n",
      "      2440.0       0.00      0.00      0.00         1\n",
      "      2638.0       0.00      0.00      0.00         1\n",
      "      2850.0       0.00      0.00      0.00         1\n",
      "      3606.0       0.00      0.00      0.00         1\n",
      "      3953.0       0.00      0.00      0.00         1\n",
      "      3990.0       0.00      0.00      0.00         1\n",
      "      4068.0       0.00      0.00      0.00         1\n",
      "      5215.0       0.00      0.00      0.00         1\n",
      "      5886.0       0.00      0.00      0.00         1\n",
      "     12367.0       0.00      0.00      0.00         1\n",
      "     13040.0       0.00      0.00      0.00         1\n",
      "\n",
      "    accuracy                           0.17      1588\n",
      "   macro avg       0.01      0.01      0.01      1588\n",
      "weighted avg       0.14      0.17      0.15      1588\n",
      "\n"
     ]
    }
   ],
   "source": [
    "y_pred = knn.predict(x_test)\n",
    "#import classification_report\n",
    "from sklearn.metrics import classification_report\n",
    "print(classification_report(y_test,y_pred))"
   ]
  },
  {
   "cell_type": "code",
   "execution_count": 36,
   "id": "bc9209fe",
   "metadata": {},
   "outputs": [],
   "source": [
    "from sklearn.model_selection import GridSearchCV\n",
    "param_grid = {'n_neighbors':np.arange(1,50)}"
   ]
  },
  {
   "cell_type": "code",
   "execution_count": 37,
   "id": "c2f5fb2f",
   "metadata": {},
   "outputs": [
    {
     "data": {
      "text/plain": [
       "GridSearchCV(cv=5, estimator=KNeighborsClassifier(),\n",
       "             param_grid={'n_neighbors': array([ 1,  2,  3,  4,  5,  6,  7,  8,  9, 10, 11, 12, 13, 14, 15, 16, 17,\n",
       "       18, 19, 20, 21, 22, 23, 24, 25, 26, 27, 28, 29, 30, 31, 32, 33, 34,\n",
       "       35, 36, 37, 38, 39, 40, 41, 42, 43, 44, 45, 46, 47, 48, 49])})"
      ]
     },
     "execution_count": 37,
     "metadata": {},
     "output_type": "execute_result"
    }
   ],
   "source": [
    "knn = KNeighborsClassifier()\n",
    "knn_cv= GridSearchCV(knn,param_grid,cv=5)\n",
    "knn_cv.fit(x_train,y_train)"
   ]
  },
  {
   "cell_type": "code",
   "execution_count": 38,
   "id": "a62f5fe6",
   "metadata": {},
   "outputs": [
    {
     "data": {
      "text/plain": [
       "0.17042063004535782"
      ]
     },
     "execution_count": 38,
     "metadata": {},
     "output_type": "execute_result"
    }
   ],
   "source": [
    "knn_cv.best_score_"
   ]
  },
  {
   "cell_type": "code",
   "execution_count": 39,
   "id": "b8355b8e",
   "metadata": {},
   "outputs": [
    {
     "data": {
      "text/plain": [
       "{'n_neighbors': 25}"
      ]
     },
     "execution_count": 39,
     "metadata": {},
     "output_type": "execute_result"
    }
   ],
   "source": [
    "knn_cv.best_params_"
   ]
  },
  {
   "cell_type": "code",
   "execution_count": null,
   "id": "1b1cae15",
   "metadata": {},
   "outputs": [],
   "source": []
  },
  {
   "cell_type": "code",
   "execution_count": null,
   "id": "7e6a7c21",
   "metadata": {},
   "outputs": [],
   "source": []
  },
  {
   "cell_type": "code",
   "execution_count": null,
   "id": "9ab1fb03",
   "metadata": {},
   "outputs": [],
   "source": []
  },
  {
   "cell_type": "code",
   "execution_count": null,
   "id": "fd8a6307",
   "metadata": {},
   "outputs": [],
   "source": []
  },
  {
   "cell_type": "code",
   "execution_count": null,
   "id": "0b444f5e",
   "metadata": {},
   "outputs": [],
   "source": []
  },
  {
   "cell_type": "code",
   "execution_count": null,
   "id": "21d2e9a1",
   "metadata": {},
   "outputs": [],
   "source": []
  },
  {
   "cell_type": "code",
   "execution_count": null,
   "id": "d909c8ec",
   "metadata": {},
   "outputs": [],
   "source": []
  },
  {
   "cell_type": "code",
   "execution_count": null,
   "id": "2cd8f6f3",
   "metadata": {},
   "outputs": [],
   "source": []
  }
 ],
 "metadata": {
  "kernelspec": {
   "display_name": "Python 3 (ipykernel)",
   "language": "python",
   "name": "python3"
  },
  "language_info": {
   "codemirror_mode": {
    "name": "ipython",
    "version": 3
   },
   "file_extension": ".py",
   "mimetype": "text/x-python",
   "name": "python",
   "nbconvert_exporter": "python",
   "pygments_lexer": "ipython3",
   "version": "3.10.0"
  }
 },
 "nbformat": 4,
 "nbformat_minor": 5
}
