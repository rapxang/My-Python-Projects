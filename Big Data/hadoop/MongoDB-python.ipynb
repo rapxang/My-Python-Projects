{
 "cells": [
  {
   "cell_type": "code",
   "execution_count": 1,
   "id": "3f5c0df9",
   "metadata": {},
   "outputs": [],
   "source": [
    "import pymongo\n",
    "from pprint import pprint"
   ]
  },
  {
   "cell_type": "code",
   "execution_count": 2,
   "id": "c46f233e",
   "metadata": {},
   "outputs": [
    {
     "name": "stdout",
     "output_type": "stream",
     "text": [
      "MongoClient(host=['127.0.0.1:27017'], document_class=dict, tz_aware=False, connect=True)\n"
     ]
    }
   ],
   "source": [
    "myclient = pymongo.MongoClient('mongodb://127.0.0.1:27017/')\n",
    "print(myclient)"
   ]
  },
  {
   "cell_type": "code",
   "execution_count": 3,
   "id": "860bdaa7",
   "metadata": {},
   "outputs": [
    {
     "name": "stdout",
     "output_type": "stream",
     "text": [
      "['CrimeRateAnalysis', 'FraudulentDetection', 'InternalAssignment', 'admin', 'config', 'emp', 'local', 'workshop3']\n"
     ]
    }
   ],
   "source": [
    "print(myclient.list_database_names())"
   ]
  },
  {
   "cell_type": "code",
   "execution_count": 4,
   "id": "29d13a3b",
   "metadata": {},
   "outputs": [
    {
     "name": "stdout",
     "output_type": "stream",
     "text": [
      "Database(MongoClient(host=['localhost:27017'], document_class=dict, tz_aware=False, connect=True), 'CrimeRateAnalysis')\n"
     ]
    }
   ],
   "source": [
    "from pymongo import MongoClient\n",
    "connection= MongoClient()\n",
    "usedb=connection.CrimeRateAnalysis\n",
    "print(usedb)"
   ]
  },
  {
   "cell_type": "code",
   "execution_count": 5,
   "id": "00839f88",
   "metadata": {},
   "outputs": [
    {
     "name": "stdout",
     "output_type": "stream",
     "text": [
      "['CrimeRate']\n"
     ]
    }
   ],
   "source": [
    "print(usedb.list_collection_names())"
   ]
  },
  {
   "cell_type": "code",
   "execution_count": 7,
   "id": "41a71aae",
   "metadata": {},
   "outputs": [
    {
     "name": "stdout",
     "output_type": "stream",
     "text": [
      "1456715\n"
     ]
    }
   ],
   "source": [
    "ecol=usedb['CrimeRate']\n",
    "print(ecol.count_documents({}))"
   ]
  },
  {
   "cell_type": "code",
   "execution_count": 8,
   "id": "dfd082f8",
   "metadata": {},
   "outputs": [
    {
     "name": "stdout",
     "output_type": "stream",
     "text": [
      "{'Description': 'ID',\n",
      " 'FBI Code': 'Case Number',\n",
      " 'IUCR': '',\n",
      " 'Primary Type': 'Date',\n",
      " '_id': ObjectId('626a733d64d80db849ac7449'),\n",
      " 'field10': 'Domestic',\n",
      " 'field11': 'Beat',\n",
      " 'field12': 'District',\n",
      " 'field13': 'Ward',\n",
      " 'field14': 'Community Area',\n",
      " 'field15': 'FBI Code',\n",
      " 'field16': 'X Coordinate',\n",
      " 'field17': 'Y Coordinate',\n",
      " 'field18': 'Year',\n",
      " 'field19': 'Updated On',\n",
      " 'field20': 'Latitude',\n",
      " 'field21': 'Longitude',\n",
      " 'field22': 'Location',\n",
      " 'field4': 'Block',\n",
      " 'field5': 'IUCR',\n",
      " 'field6': 'Primary Type',\n",
      " 'field7': 'Description',\n",
      " 'field8': 'Location Description',\n",
      " 'field9': 'Arrest'}\n"
     ]
    }
   ],
   "source": [
    "pprint(ecol.find_one())"
   ]
  }
 ],
 "metadata": {
  "kernelspec": {
   "display_name": "Python 3 (ipykernel)",
   "language": "python",
   "name": "python3"
  },
  "language_info": {
   "codemirror_mode": {
    "name": "ipython",
    "version": 3
   },
   "file_extension": ".py",
   "mimetype": "text/x-python",
   "name": "python",
   "nbconvert_exporter": "python",
   "pygments_lexer": "ipython3",
   "version": "3.10.0"
  }
 },
 "nbformat": 4,
 "nbformat_minor": 5
}
