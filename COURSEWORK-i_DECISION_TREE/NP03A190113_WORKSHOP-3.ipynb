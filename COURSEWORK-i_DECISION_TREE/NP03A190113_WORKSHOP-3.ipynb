{
 "cells": [
  {
   "cell_type": "markdown",
   "id": "87982e6b",
   "metadata": {},
   "source": [
    "# STUDENT NAME : Kunga Nyima Gurung\n",
    "# COURSEWORK-1 : DECISION TRESS USING ID3 ALGORITHM\n",
    "# WLV ID : 2050453 \n"
   ]
  },
  {
   "cell_type": "raw",
   "id": "27d77afa",
   "metadata": {},
   "source": [
    "Bonus-Task(20)\n",
    "\n",
    "• Bonus Points: Implement Decision Tree(ID3 Algorithm) from\n",
    "scratch for play_tennis.csv dataset"
   ]
  },
  {
   "cell_type": "markdown",
   "id": "45f03584",
   "metadata": {},
   "source": [
    "# ID3 ALGORITHM"
   ]
  },
  {
   "cell_type": "raw",
   "id": "99e7a5c8",
   "metadata": {},
   "source": [
    "ID3 Algorithm has two important concepts i.e. \"Entropy\" and \"Information Gain\"\n",
    "\n",
    "Entropy: \n",
    "        It tells about the uncertainty in dataset that indicates the number of positive and number of negative examples. If we have an equal number of positive and negative example, then the Entropy will be 0. Likewise, if have only positive or only negative examples, the entropy will be 0.\n",
    "        Entropy is calculated inorder to determine the information gain of each attribute."
   ]
  },
  {
   "cell_type": "markdown",
   "id": "f23c2593",
   "metadata": {},
   "source": [
    "## FORMULA"
   ]
  },
  {
   "cell_type": "markdown",
   "id": "e1eab686",
   "metadata": {},
   "source": [
    "![](Entropy_formula.png)"
   ]
  },
  {
   "cell_type": "raw",
   "id": "6fb8a999",
   "metadata": {},
   "source": [
    "Information Gain:\n",
    "                It is the difference in entropy before and entropy after partitioning the examples according to attributes. Average information entropy for the attributes is subtracted from the total entropy to obtain the information gain.\n",
    "                information gain is required to determine which attribute has the highest IG and assume that as the root node."
   ]
  },
  {
   "cell_type": "markdown",
   "id": "87770fe3",
   "metadata": {},
   "source": [
    "## FORMULA"
   ]
  },
  {
   "cell_type": "markdown",
   "id": "26b4d5e0",
   "metadata": {},
   "source": [
    "![](Information_Gain.png)"
   ]
  },
  {
   "cell_type": "markdown",
   "id": "36f97b6f",
   "metadata": {},
   "source": [
    "# Implement Decision Tree(ID3 Algorithm) from scratch"
   ]
  },
  {
   "cell_type": "code",
   "execution_count": 1,
   "id": "03759f02",
   "metadata": {},
   "outputs": [],
   "source": [
    "from pandas.errors import InvalidIndexError\n",
    "#Importing libraries\n",
    "import numpy as np\n",
    "import pandas as pd\n",
    "\n",
    "#ignore warnings\n",
    "import warnings\n",
    "warnings.filterwarnings('ignore')"
   ]
  },
  {
   "cell_type": "code",
   "execution_count": 2,
   "id": "91231a93",
   "metadata": {},
   "outputs": [
    {
     "data": {
      "text/html": [
       "<div>\n",
       "<style scoped>\n",
       "    .dataframe tbody tr th:only-of-type {\n",
       "        vertical-align: middle;\n",
       "    }\n",
       "\n",
       "    .dataframe tbody tr th {\n",
       "        vertical-align: top;\n",
       "    }\n",
       "\n",
       "    .dataframe thead th {\n",
       "        text-align: right;\n",
       "    }\n",
       "</style>\n",
       "<table border=\"1\" class=\"dataframe\">\n",
       "  <thead>\n",
       "    <tr style=\"text-align: right;\">\n",
       "      <th></th>\n",
       "      <th>outlook</th>\n",
       "      <th>temp</th>\n",
       "      <th>humidity</th>\n",
       "      <th>wind</th>\n",
       "      <th>play</th>\n",
       "    </tr>\n",
       "  </thead>\n",
       "  <tbody>\n",
       "    <tr>\n",
       "      <th>0</th>\n",
       "      <td>Sunny</td>\n",
       "      <td>Hot</td>\n",
       "      <td>High</td>\n",
       "      <td>Weak</td>\n",
       "      <td>No</td>\n",
       "    </tr>\n",
       "    <tr>\n",
       "      <th>1</th>\n",
       "      <td>Sunny</td>\n",
       "      <td>Hot</td>\n",
       "      <td>High</td>\n",
       "      <td>Strong</td>\n",
       "      <td>No</td>\n",
       "    </tr>\n",
       "    <tr>\n",
       "      <th>2</th>\n",
       "      <td>Overcast</td>\n",
       "      <td>Hot</td>\n",
       "      <td>High</td>\n",
       "      <td>Weak</td>\n",
       "      <td>Yes</td>\n",
       "    </tr>\n",
       "    <tr>\n",
       "      <th>3</th>\n",
       "      <td>Rain</td>\n",
       "      <td>Mild</td>\n",
       "      <td>High</td>\n",
       "      <td>Weak</td>\n",
       "      <td>Yes</td>\n",
       "    </tr>\n",
       "    <tr>\n",
       "      <th>4</th>\n",
       "      <td>Rain</td>\n",
       "      <td>Cool</td>\n",
       "      <td>Normal</td>\n",
       "      <td>Weak</td>\n",
       "      <td>Yes</td>\n",
       "    </tr>\n",
       "    <tr>\n",
       "      <th>5</th>\n",
       "      <td>Rain</td>\n",
       "      <td>Cool</td>\n",
       "      <td>Normal</td>\n",
       "      <td>Strong</td>\n",
       "      <td>No</td>\n",
       "    </tr>\n",
       "    <tr>\n",
       "      <th>6</th>\n",
       "      <td>Overcast</td>\n",
       "      <td>Cool</td>\n",
       "      <td>Normal</td>\n",
       "      <td>Strong</td>\n",
       "      <td>Yes</td>\n",
       "    </tr>\n",
       "    <tr>\n",
       "      <th>7</th>\n",
       "      <td>Sunny</td>\n",
       "      <td>Mild</td>\n",
       "      <td>High</td>\n",
       "      <td>Weak</td>\n",
       "      <td>No</td>\n",
       "    </tr>\n",
       "    <tr>\n",
       "      <th>8</th>\n",
       "      <td>Sunny</td>\n",
       "      <td>Cool</td>\n",
       "      <td>Normal</td>\n",
       "      <td>Weak</td>\n",
       "      <td>Yes</td>\n",
       "    </tr>\n",
       "    <tr>\n",
       "      <th>9</th>\n",
       "      <td>Rain</td>\n",
       "      <td>Mild</td>\n",
       "      <td>Normal</td>\n",
       "      <td>Weak</td>\n",
       "      <td>Yes</td>\n",
       "    </tr>\n",
       "    <tr>\n",
       "      <th>10</th>\n",
       "      <td>Sunny</td>\n",
       "      <td>Mild</td>\n",
       "      <td>Normal</td>\n",
       "      <td>Strong</td>\n",
       "      <td>Yes</td>\n",
       "    </tr>\n",
       "    <tr>\n",
       "      <th>11</th>\n",
       "      <td>Overcast</td>\n",
       "      <td>Mild</td>\n",
       "      <td>High</td>\n",
       "      <td>Strong</td>\n",
       "      <td>Yes</td>\n",
       "    </tr>\n",
       "    <tr>\n",
       "      <th>12</th>\n",
       "      <td>Overcast</td>\n",
       "      <td>Hot</td>\n",
       "      <td>Normal</td>\n",
       "      <td>Weak</td>\n",
       "      <td>Yes</td>\n",
       "    </tr>\n",
       "    <tr>\n",
       "      <th>13</th>\n",
       "      <td>Rain</td>\n",
       "      <td>Mild</td>\n",
       "      <td>High</td>\n",
       "      <td>Strong</td>\n",
       "      <td>No</td>\n",
       "    </tr>\n",
       "  </tbody>\n",
       "</table>\n",
       "</div>"
      ],
      "text/plain": [
       "     outlook  temp humidity    wind play\n",
       "0      Sunny   Hot     High    Weak   No\n",
       "1      Sunny   Hot     High  Strong   No\n",
       "2   Overcast   Hot     High    Weak  Yes\n",
       "3       Rain  Mild     High    Weak  Yes\n",
       "4       Rain  Cool   Normal    Weak  Yes\n",
       "5       Rain  Cool   Normal  Strong   No\n",
       "6   Overcast  Cool   Normal  Strong  Yes\n",
       "7      Sunny  Mild     High    Weak   No\n",
       "8      Sunny  Cool   Normal    Weak  Yes\n",
       "9       Rain  Mild   Normal    Weak  Yes\n",
       "10     Sunny  Mild   Normal  Strong  Yes\n",
       "11  Overcast  Mild     High  Strong  Yes\n",
       "12  Overcast   Hot   Normal    Weak  Yes\n",
       "13      Rain  Mild     High  Strong   No"
      ]
     },
     "execution_count": 2,
     "metadata": {},
     "output_type": "execute_result"
    }
   ],
   "source": [
    "#Reading the dataset\n",
    "dataset = pd.read_csv(\"play_tennis.csv\")\n",
    "dataset.head(15)"
   ]
  },
  {
   "cell_type": "raw",
   "id": "f81c03a7",
   "metadata": {},
   "source": [
    "After observing the dataset we can say that:\n",
    "Features: Outlook, Temperature, Humidity, Wind\n",
    "Label: Play Tennis\n",
    "Class: Yes, No (Unique values of the label)"
   ]
  },
  {
   "cell_type": "markdown",
   "id": "341b1da1",
   "metadata": {},
   "source": [
    "# THE FIRST ATTRIBUTE \"Outlook\""
   ]
  },
  {
   "cell_type": "code",
   "execution_count": 3,
   "id": "3a5c9c29",
   "metadata": {},
   "outputs": [
    {
     "name": "stdout",
     "output_type": "stream",
     "text": [
      "['Sunny' 'Overcast' 'Rain']\n"
     ]
    }
   ],
   "source": [
    "#unique Values in the attributr outlook\n",
    "outlook_values = dataset[\"outlook\"].unique()\n",
    "print(outlook_values)"
   ]
  },
  {
   "cell_type": "code",
   "execution_count": 4,
   "id": "70055327",
   "metadata": {},
   "outputs": [
    {
     "name": "stdout",
     "output_type": "stream",
     "text": [
      "outlook\n",
      "Overcast    4\n",
      "Rain        5\n",
      "Sunny       5\n",
      "Name: outlook, dtype: int64\n"
     ]
    }
   ],
   "source": [
    "values = dataset.groupby('outlook')['outlook'].count()\n",
    "print (values)"
   ]
  },
  {
   "cell_type": "markdown",
   "id": "f5542e88",
   "metadata": {},
   "source": [
    "Here, in the atttribute \"outlook\" the possible values are: \"Sunny\", \"Overcast\" and \"Rain\"."
   ]
  },
  {
   "cell_type": "raw",
   "id": "be2fec36",
   "metadata": {},
   "source": [
    "Total row = 13\n",
    "Row with \"Yes\" class = 9\n",
    "Row with \"No\" class = 5\n",
    "Complete entropy of dataset is -\n",
    "H(S) = - p(Yes) * log2(p(Yes)) - p(No) * log2(p(No))\n",
    "     = - (9/14) * log2(9/14) - (5/14) * log2(5/14)\n",
    "     = - (-0.41) - (-0.53)\n",
    "     = 0.94"
   ]
  },
  {
   "cell_type": "code",
   "execution_count": 5,
   "id": "edf02690",
   "metadata": {},
   "outputs": [
    {
     "name": "stdout",
     "output_type": "stream",
     "text": [
      "entropy: 0.94\n"
     ]
    }
   ],
   "source": [
    "# calculate the entropy for a dataset\n",
    "from math import log2\n",
    "# proportion of examples in each class\n",
    "class_yes = 9/14\n",
    "class_no = 5/14\n",
    "# calculate entropy\n",
    "entropy = -(class_yes * log2(class_yes) + class_no * log2(class_no))\n",
    "# print the result\n",
    "print('entropy: %.2f' % entropy)"
   ]
  },
  {
   "cell_type": "raw",
   "id": "9cd9d683",
   "metadata": {},
   "source": [
    "Categorical values of Outlook - Sunny, Overcast and Rain\n",
    "Total count of row containing:\n",
    "  Sunny = 5\n",
    "  Sunny & Yes = 2\n",
    "  Sunny & No = 3\n",
    ">> H(Outlook=Sunny) = -(2/5)*log(2/5)-(3/5)*log(3/5) = 0.971\n",
    "Total count of row containing:  \n",
    "  Rain = 5\n",
    "  Rain & Yes = 3\n",
    "  Rain & No = 2\n",
    ">> H(Outlook=Rain) = -(3/5)*log(3/5)-(2/5)*log(2/5) = 0.971\n",
    "Total count of row containing:  \n",
    "  Overcast = 4\n",
    "  Overcast & Yes = 4\n",
    "  Overcast & No = 0\n",
    ">> H(Outlook=Overcast) = -(4/4)*log(4/4)-0 = 0"
   ]
  },
  {
   "cell_type": "markdown",
   "id": "6a64de6f",
   "metadata": {},
   "source": [
    "## SUNNY_ENTROPY"
   ]
  },
  {
   "cell_type": "code",
   "execution_count": 6,
   "id": "e74d6809",
   "metadata": {},
   "outputs": [
    {
     "name": "stdout",
     "output_type": "stream",
     "text": [
      "entropy: 0.971\n"
     ]
    }
   ],
   "source": [
    "# calculate the entropy for a dataset\n",
    "from math import log2\n",
    "# proportion of examples in each class\n",
    "class_yes = 2/5\n",
    "class_no = 3/5\n",
    "# calculate entropy\n",
    "Sunny_entropy = (-class_yes * log2(class_yes) - class_no * log2(class_no))\n",
    "# print the result\n",
    "print('entropy: %.3f' % Sunny_entropy)"
   ]
  },
  {
   "cell_type": "markdown",
   "id": "ee5925e7",
   "metadata": {},
   "source": [
    "## RAIN_ENTROPY"
   ]
  },
  {
   "cell_type": "code",
   "execution_count": 7,
   "id": "f0caa707",
   "metadata": {},
   "outputs": [
    {
     "name": "stdout",
     "output_type": "stream",
     "text": [
      "entropy: 0.971\n"
     ]
    }
   ],
   "source": [
    "# calculate the entropy for a dataset\n",
    "from math import log2\n",
    "# proportion of examples in each class\n",
    "class_yes = 3/5\n",
    "class_no = 2/5\n",
    "# calculate entropy\n",
    "Rain_entropy = (-class_yes * log2(class_yes) - class_no * log2(class_no))\n",
    "# print the result\n",
    "print('entropy: %.3f' % Rain_entropy)"
   ]
  },
  {
   "cell_type": "markdown",
   "id": "cb2783b2",
   "metadata": {},
   "source": [
    "## OUTLOOK_ENTROPY"
   ]
  },
  {
   "cell_type": "code",
   "execution_count": 8,
   "id": "6b96d1a2",
   "metadata": {},
   "outputs": [
    {
     "name": "stdout",
     "output_type": "stream",
     "text": [
      "entropy: -0.000\n"
     ]
    }
   ],
   "source": [
    "# calculate the entropy for a dataset\n",
    "from math import log2\n",
    "# proportion of examples in each class\n",
    "class_yes = 4/4\n",
    "class_no = 0/4\n",
    "# calculate entropy\n",
    "Outlook_entropy = (-class_yes) * log2(class_yes) - 0\n",
    "# print the result\n",
    "print('entropy: %.3f' % Outlook_entropy)"
   ]
  },
  {
   "cell_type": "markdown",
   "id": "a16bd4b1",
   "metadata": {},
   "source": [
    "# Calculating information gain for feature \"outlook\""
   ]
  },
  {
   "cell_type": "raw",
   "id": "0b8e6fe4",
   "metadata": {},
   "source": [
    "I(Outlook) = p(Sunny) * H(Outlook=Sunny) + p(Rain) * H(Outlook=Rain) + p(Overcast) * H(Outlook=Overcast)\n",
    "= (5/14)*0.971 + (5/14)*0.971 + (4/14)*0\n",
    "= 0.693"
   ]
  },
  {
   "cell_type": "raw",
   "id": "c5df3414",
   "metadata": {},
   "source": [
    "Information Gain = H(S) - I(Outlook)\n",
    "                 = 0.94 - 0.693\n",
    "                 = 0.247"
   ]
  },
  {
   "cell_type": "code",
   "execution_count": 9,
   "id": "6dd00ba1",
   "metadata": {},
   "outputs": [
    {
     "name": "stdout",
     "output_type": "stream",
     "text": [
      "Average Entropy : 0.69\n"
     ]
    }
   ],
   "source": [
    "# calculate the information gain\n",
    "p_sunny=5/14\n",
    "p_Rain=5/14\n",
    "p_Outlook=4/14\n",
    "Outlook_Average_entropy = (p_sunny * Sunny_entropy) + (p_Rain * Rain_entropy) + (p_Outlook * Outlook_entropy)\n",
    "print('Average Entropy : %.2f' % Outlook_Average_entropy)"
   ]
  },
  {
   "cell_type": "code",
   "execution_count": 10,
   "id": "cb4eee37",
   "metadata": {},
   "outputs": [
    {
     "name": "stdout",
     "output_type": "stream",
     "text": [
      "Information Gain : 0.247\n"
     ]
    }
   ],
   "source": [
    "Outlook_Information_Gain = entropy - Outlook_Average_entropy\n",
    "print('Information Gain : %.3f' % Outlook_Information_Gain)"
   ]
  },
  {
   "cell_type": "markdown",
   "id": "89f355f9",
   "metadata": {},
   "source": [
    "# THE SECOND ATTRIBUTE \"temp\""
   ]
  },
  {
   "cell_type": "code",
   "execution_count": 11,
   "id": "c9ea7fd6",
   "metadata": {},
   "outputs": [
    {
     "name": "stdout",
     "output_type": "stream",
     "text": [
      "['Hot' 'Mild' 'Cool']\n"
     ]
    }
   ],
   "source": [
    "outlook_values = dataset[\"temp\"].unique()\n",
    "print(outlook_values)"
   ]
  },
  {
   "cell_type": "code",
   "execution_count": 12,
   "id": "8a6e4e43",
   "metadata": {},
   "outputs": [
    {
     "name": "stdout",
     "output_type": "stream",
     "text": [
      "temp\n",
      "Cool    4\n",
      "Hot     4\n",
      "Mild    6\n",
      "Name: temp, dtype: int64\n"
     ]
    }
   ],
   "source": [
    "values = dataset.groupby('temp')['temp'].count()\n",
    "print (values)"
   ]
  },
  {
   "cell_type": "raw",
   "id": "19778e46",
   "metadata": {},
   "source": [
    "# Categorical values of temp - Cool, Hot and Mild\n",
    "Total count of row containing:\n",
    "  Cool = 4\n",
    "  Cool & Yes = 3\n",
    "  Cool & No = 1\n",
    ">> H(temp=Cool) = -(3/4)*log(3/4)-(1/4)*log(1/4) = 0.811\n",
    "Total count of row containing:  \n",
    "  Hot = 4\n",
    "  Hot & Yes = 2\n",
    "  Hot & No = 2\n",
    ">> H(temp=Hot) = -(2/4)*log(2/4)-(2/4)*log(2/4) = 1.0 \n",
    "Total count of row containing:  \n",
    "  Mild = 6\n",
    "  Mild & Yes = 4\n",
    "  Mild & No = 2\n",
    ">> H(temp=Mild) = (-4/6)*log(4/6)-(2/6)*log(2/6)= 0.918"
   ]
  },
  {
   "cell_type": "markdown",
   "id": "12be6264",
   "metadata": {},
   "source": [
    "## COOL_ENTROPY"
   ]
  },
  {
   "cell_type": "code",
   "execution_count": 13,
   "id": "29dabf29",
   "metadata": {},
   "outputs": [
    {
     "name": "stdout",
     "output_type": "stream",
     "text": [
      "entropy: 0.811\n"
     ]
    }
   ],
   "source": [
    "# calculate the entropy for a dataset\n",
    "from math import log2\n",
    "# proportion of examples in each class\n",
    "class_yes = 3/4\n",
    "class_no = 1/4\n",
    "# calculate entropy\n",
    "Cool_entropy = (-class_yes * log2(class_yes) - class_no * log2(class_no))\n",
    "# print the result\n",
    "print('entropy: %.3f' % Cool_entropy)"
   ]
  },
  {
   "cell_type": "markdown",
   "id": "1f5aebb1",
   "metadata": {},
   "source": [
    "## HOT_ENTROPY"
   ]
  },
  {
   "cell_type": "code",
   "execution_count": 14,
   "id": "f2571795",
   "metadata": {},
   "outputs": [
    {
     "name": "stdout",
     "output_type": "stream",
     "text": [
      "entropy: 1.000\n"
     ]
    }
   ],
   "source": [
    "# calculate the entropy for a dataset\n",
    "from math import log2\n",
    "# proportion of examples in each class\n",
    "class_yes = 2/4\n",
    "class_no = 2/4\n",
    "# calculate entropy\n",
    "Hot_entropy = (-class_yes * log2(class_yes) - class_no * log2(class_no))\n",
    "# print the result\n",
    "print('entropy: %.3f' % Hot_entropy)"
   ]
  },
  {
   "cell_type": "markdown",
   "id": "c400ef00",
   "metadata": {},
   "source": [
    "## MILD_ENTROPY"
   ]
  },
  {
   "cell_type": "code",
   "execution_count": 15,
   "id": "7b868484",
   "metadata": {},
   "outputs": [
    {
     "name": "stdout",
     "output_type": "stream",
     "text": [
      "entropy: 0.918\n"
     ]
    }
   ],
   "source": [
    "# calculate the entropy for a dataset\n",
    "from math import log2\n",
    "# proportion of examples in each class\n",
    "class_yes = 4/6\n",
    "class_no = 2/6\n",
    "# calculate entropy\n",
    "Mild_entropy = (-class_yes * log2(class_yes) - class_no * log2(class_no))\n",
    "# print the result\n",
    "print('entropy: %.3f' % Mild_entropy)"
   ]
  },
  {
   "cell_type": "markdown",
   "id": "b872c2e8",
   "metadata": {},
   "source": [
    "# Calculating information gain for feature \"temp\""
   ]
  },
  {
   "cell_type": "raw",
   "id": "a4f266ec",
   "metadata": {},
   "source": [
    "I(temp) = p(Cool) * H(temp=Cool) + p(Hot) * H(temp=Hot) + p(Mild) * H(temp=Mild)\n",
    "= (4/14)*0.811 + (4/14)*1.00 + (6/14)*0.918\n",
    "= 0.91"
   ]
  },
  {
   "cell_type": "raw",
   "id": "0f32b21d",
   "metadata": {},
   "source": [
    "Information Gain = H(S) - I(temp)\n",
    "                 = 0.94 - 0.91\n",
    "                 = 0.029"
   ]
  },
  {
   "cell_type": "code",
   "execution_count": 16,
   "id": "ebb9c613",
   "metadata": {},
   "outputs": [
    {
     "name": "stdout",
     "output_type": "stream",
     "text": [
      "Average Entropy : 0.91\n"
     ]
    }
   ],
   "source": [
    "# calculate the information gain\n",
    "p_Cool=4/14\n",
    "p_Hot=4/14\n",
    "p_Mild=6/14\n",
    "Temp_Average_entropy = (p_Cool * Cool_entropy) + (p_Hot * Hot_entropy) + (p_Mild * Mild_entropy)\n",
    "print('Average Entropy : %.2f' % Temp_Average_entropy)"
   ]
  },
  {
   "cell_type": "code",
   "execution_count": 17,
   "id": "f1c8e950",
   "metadata": {},
   "outputs": [
    {
     "name": "stdout",
     "output_type": "stream",
     "text": [
      "Information Gain : 0.029\n"
     ]
    }
   ],
   "source": [
    "Temp_Information_Gain = entropy - Temp_Average_entropy\n",
    "print('Information Gain : %.3f' % Temp_Information_Gain)"
   ]
  },
  {
   "cell_type": "markdown",
   "id": "c5a374f1",
   "metadata": {},
   "source": [
    "# THE THIRD ATTRIBUTE \"humidity\""
   ]
  },
  {
   "cell_type": "code",
   "execution_count": 18,
   "id": "ca2fba0c",
   "metadata": {},
   "outputs": [
    {
     "name": "stdout",
     "output_type": "stream",
     "text": [
      "['High' 'Normal']\n"
     ]
    }
   ],
   "source": [
    "outlook_values = dataset[\"humidity\"].unique()\n",
    "print(outlook_values)"
   ]
  },
  {
   "cell_type": "code",
   "execution_count": 19,
   "id": "3f1cc588",
   "metadata": {},
   "outputs": [
    {
     "name": "stdout",
     "output_type": "stream",
     "text": [
      "humidity\n",
      "High      7\n",
      "Normal    7\n",
      "Name: humidity, dtype: int64\n"
     ]
    }
   ],
   "source": [
    "values = dataset.groupby('humidity')['humidity'].count()\n",
    "print (values)"
   ]
  },
  {
   "cell_type": "raw",
   "id": "5199a164",
   "metadata": {},
   "source": [
    "# Categorical values of humidity - High and Normal\n",
    "Total count of row containing:\n",
    "  High = 7\n",
    "  High & Yes = 3\n",
    "  High & No = 4\n",
    ">> H(humidity=High) = -(3/7)*log(3/7)-(4/7)*log(4/7) = 0.985\n",
    "Total count of row containing:  \n",
    "  Normal = 7\n",
    "  Normal & Yes = 6\n",
    "  Normal & No = 1\n",
    ">> H(humidity=Normal) = -(6/7)*log(6/7)-(1/7)*log(1/7) = 0.592 "
   ]
  },
  {
   "cell_type": "markdown",
   "id": "22825a2b",
   "metadata": {},
   "source": [
    "## HIGH_ENTROPY"
   ]
  },
  {
   "cell_type": "code",
   "execution_count": 20,
   "id": "c859ea41",
   "metadata": {},
   "outputs": [
    {
     "name": "stdout",
     "output_type": "stream",
     "text": [
      "entropy: 0.985\n"
     ]
    }
   ],
   "source": [
    "# calculate the entropy for a dataset\n",
    "from math import log2\n",
    "# proportion of examples in each class\n",
    "class_yes = 3/7\n",
    "class_no = 4/7\n",
    "# calculate entropy\n",
    "High_entropy = (-class_yes * log2(class_yes) - class_no * log2(class_no))\n",
    "# print the result\n",
    "print('entropy: %.3f' % High_entropy)"
   ]
  },
  {
   "cell_type": "markdown",
   "id": "80a4cab3",
   "metadata": {},
   "source": [
    "## NORMAL_ENTROPY "
   ]
  },
  {
   "cell_type": "code",
   "execution_count": 21,
   "id": "2f1f629d",
   "metadata": {},
   "outputs": [
    {
     "name": "stdout",
     "output_type": "stream",
     "text": [
      "entropy: 0.592\n"
     ]
    }
   ],
   "source": [
    "# calculate the entropy for a dataset\n",
    "from math import log2\n",
    "# proportion of examples in each class\n",
    "class_yes = 6/7\n",
    "class_no = 1/7\n",
    "# calculate entropy\n",
    "Normal_entropy = (-class_yes * log2(class_yes) - class_no * log2(class_no))\n",
    "# print the result\n",
    "print('entropy: %.3f' % Normal_entropy)"
   ]
  },
  {
   "cell_type": "markdown",
   "id": "2ebedc94",
   "metadata": {},
   "source": [
    "# Calculating information gain for feature \"humidity\""
   ]
  },
  {
   "cell_type": "raw",
   "id": "7645264d",
   "metadata": {},
   "source": [
    "I(humidity) = p(Hot) * H(humidity=Hot) + p(Normal) * H(humidity=Normal)\n",
    "= (7/14)*0.985 + (7/14)*0.592 \n",
    "= 0.788"
   ]
  },
  {
   "cell_type": "raw",
   "id": "3b12b58b",
   "metadata": {},
   "source": [
    "Information Gain = H(S) - I(humidity)\n",
    "                 = 0.94 - 0.788\n",
    "                 = 0.152"
   ]
  },
  {
   "cell_type": "code",
   "execution_count": 22,
   "id": "14c8b02f",
   "metadata": {},
   "outputs": [
    {
     "name": "stdout",
     "output_type": "stream",
     "text": [
      "Average Entropy : 0.788\n"
     ]
    }
   ],
   "source": [
    "# calculate the information gain\n",
    "p_High=7/14\n",
    "p_Normal=7/14\n",
    "Humidity_Average_entropy = (p_High * High_entropy) + (p_Normal * Normal_entropy) \n",
    "print('Average Entropy : %.3f' % Humidity_Average_entropy)"
   ]
  },
  {
   "cell_type": "code",
   "execution_count": 23,
   "id": "b7781e24",
   "metadata": {},
   "outputs": [
    {
     "name": "stdout",
     "output_type": "stream",
     "text": [
      "Information Gain : 0.152\n"
     ]
    }
   ],
   "source": [
    "Humidity_Information_Gain = entropy - Humidity_Average_entropy\n",
    "print('Information Gain : %.3f' % Humidity_Information_Gain)"
   ]
  },
  {
   "cell_type": "markdown",
   "id": "51f45bb6",
   "metadata": {},
   "source": [
    "# THE FOURTH ATTRIBUTE \"wind\""
   ]
  },
  {
   "cell_type": "code",
   "execution_count": 24,
   "id": "179c4ae4",
   "metadata": {},
   "outputs": [
    {
     "name": "stdout",
     "output_type": "stream",
     "text": [
      "['Weak' 'Strong']\n"
     ]
    }
   ],
   "source": [
    "outlook_values = dataset[\"wind\"].unique()\n",
    "print(outlook_values)"
   ]
  },
  {
   "cell_type": "code",
   "execution_count": 25,
   "id": "0c2dad37",
   "metadata": {},
   "outputs": [
    {
     "name": "stdout",
     "output_type": "stream",
     "text": [
      "wind\n",
      "Strong    6\n",
      "Weak      8\n",
      "Name: wind, dtype: int64\n"
     ]
    }
   ],
   "source": [
    "values = dataset.groupby('wind')['wind'].count()\n",
    "print (values)"
   ]
  },
  {
   "cell_type": "raw",
   "id": "1257796e",
   "metadata": {},
   "source": [
    "# Categorical values of humidity - Strong and Weak\n",
    "Total count of row containing:\n",
    "  Strong = 6\n",
    "  Strong & Yes = 3\n",
    "  Strong & No = 3\n",
    ">> H(wind=Strong) = -(3/6)*log(3/6)-(3/6)*log(4/6) = 1.000\n",
    "Total count of row containing:  \n",
    "  Weak = 8\n",
    "  Weak & Yes = 6\n",
    "  Weak & No = 2\n",
    ">> H(wind=Weak) = -(6/8)*log(6/8)-(2/8)*log(2/8) = 0.811"
   ]
  },
  {
   "cell_type": "markdown",
   "id": "de175e1f",
   "metadata": {},
   "source": [
    "## STRONG_ENTROPY"
   ]
  },
  {
   "cell_type": "code",
   "execution_count": 26,
   "id": "ba002377",
   "metadata": {},
   "outputs": [
    {
     "name": "stdout",
     "output_type": "stream",
     "text": [
      "entropy: 1.000\n"
     ]
    }
   ],
   "source": [
    "# calculate the entropy for a dataset\n",
    "from math import log2\n",
    "# proportion of examples in each class\n",
    "class_yes = 3/6\n",
    "class_no = 3/6\n",
    "# calculate entropy\n",
    "Strong_entropy = (-class_yes * log2(class_yes) - class_no * log2(class_no))\n",
    "# print the result\n",
    "print('entropy: %.3f' % Strong_entropy)"
   ]
  },
  {
   "cell_type": "markdown",
   "id": "3d7f35d1",
   "metadata": {},
   "source": [
    "## WEAK-ENTROPY"
   ]
  },
  {
   "cell_type": "code",
   "execution_count": 27,
   "id": "0cbbd146",
   "metadata": {},
   "outputs": [
    {
     "name": "stdout",
     "output_type": "stream",
     "text": [
      "entropy: 0.811\n"
     ]
    }
   ],
   "source": [
    "# calculate the entropy for a dataset\n",
    "from math import log2\n",
    "# proportion of examples in each class\n",
    "class_yes = 6/8\n",
    "class_no = 2/8\n",
    "# calculate entropy\n",
    "Weak_entropy = (-class_yes * log2(class_yes) - class_no * log2(class_no))\n",
    "# print the result\n",
    "print('entropy: %.3f' % Weak_entropy)"
   ]
  },
  {
   "cell_type": "markdown",
   "id": "a1cb23fd",
   "metadata": {},
   "source": [
    "# Calculating information gain for feature \"wind\""
   ]
  },
  {
   "cell_type": "raw",
   "id": "50746c90",
   "metadata": {},
   "source": [
    "I(wind) = p(Strong) * H(wind=Strong) + p(Weak) * H(wind=Weak)\n",
    "= (7/14)*1.000 + (7/14)*0.811 \n",
    "= 0.892"
   ]
  },
  {
   "cell_type": "raw",
   "id": "5b4b63b8",
   "metadata": {},
   "source": [
    "Information Gain = H(S) - I(humidity)\n",
    "                 = 0.94 - 0.892\n",
    "                 = 0.048"
   ]
  },
  {
   "cell_type": "code",
   "execution_count": 28,
   "id": "27b71de8",
   "metadata": {},
   "outputs": [
    {
     "name": "stdout",
     "output_type": "stream",
     "text": [
      "Average Entropy : 0.892\n"
     ]
    }
   ],
   "source": [
    "# calculate the information gain\n",
    "p_Strong=6/14\n",
    "p_Weak=8/14\n",
    "Wind_Average_entropy = (p_Strong * Strong_entropy) + (p_Weak * Weak_entropy) \n",
    "print('Average Entropy : %.3f' % Wind_Average_entropy)"
   ]
  },
  {
   "cell_type": "code",
   "execution_count": 29,
   "id": "36f7aabe",
   "metadata": {},
   "outputs": [
    {
     "name": "stdout",
     "output_type": "stream",
     "text": [
      "Information Gain : 0.048\n"
     ]
    }
   ],
   "source": [
    "Wind_Information_Gain = entropy - Wind_Average_entropy\n",
    "print('Information Gain : %.3f' % Wind_Information_Gain)"
   ]
  },
  {
   "cell_type": "markdown",
   "id": "d48d7029",
   "metadata": {},
   "source": [
    "# Finding the most informative Attributes"
   ]
  },
  {
   "cell_type": "code",
   "execution_count": 30,
   "id": "6c933c67",
   "metadata": {},
   "outputs": [
    {
     "name": "stdout",
     "output_type": "stream",
     "text": [
      "Gain(S, Outlook) : 0.247\n",
      "Gain(S, Temp) : 0.029\n",
      "Gain(S, Humidity) : 0.152\n",
      "Gain(S, Wind) : 0.048\n"
     ]
    }
   ],
   "source": [
    "Outlook_Gain = Outlook_Information_Gain\n",
    "Temp_Gain =  Temp_Information_Gain\n",
    "Humidity_Gain = Humidity_Information_Gain\n",
    "Wind_Gain = Wind_Information_Gain\n",
    "\n",
    "\n",
    "print('Gain(S, Outlook) : %.3f' % Outlook_Gain)\n",
    "print('Gain(S, Temp) : %.3f' % Temp_Gain)\n",
    "print('Gain(S, Humidity) : %.3f' % Humidity_Gain)\n",
    "print('Gain(S, Wind) : %.3f' % Wind_Gain)"
   ]
  },
  {
   "cell_type": "markdown",
   "id": "bdd726f6",
   "metadata": {},
   "source": [
    "As we can see that the attribute \"Outlook\" has the hightst gain of 0.247, we will consider \"outlook as a root node in this case."
   ]
  },
  {
   "cell_type": "markdown",
   "id": "bd81479b",
   "metadata": {},
   "source": [
    "![](tree_dgm.png)"
   ]
  },
  {
   "cell_type": "markdown",
   "id": "d7fdf0ad",
   "metadata": {},
   "source": [
    "When we see the label of sunny and wind, it is in terms of positive and negative label. So we cannot write yes or no. Whereas, in case of overcast all the label are positive so we write yes."
   ]
  },
  {
   "cell_type": "code",
   "execution_count": 31,
   "id": "f561a7bd",
   "metadata": {},
   "outputs": [
    {
     "data": {
      "text/html": [
       "<div>\n",
       "<style scoped>\n",
       "    .dataframe tbody tr th:only-of-type {\n",
       "        vertical-align: middle;\n",
       "    }\n",
       "\n",
       "    .dataframe tbody tr th {\n",
       "        vertical-align: top;\n",
       "    }\n",
       "\n",
       "    .dataframe thead th {\n",
       "        text-align: right;\n",
       "    }\n",
       "</style>\n",
       "<table border=\"1\" class=\"dataframe\">\n",
       "  <thead>\n",
       "    <tr style=\"text-align: right;\">\n",
       "      <th></th>\n",
       "      <th>outlook</th>\n",
       "      <th>temp</th>\n",
       "      <th>humidity</th>\n",
       "      <th>wind</th>\n",
       "      <th>play</th>\n",
       "    </tr>\n",
       "  </thead>\n",
       "  <tbody>\n",
       "    <tr>\n",
       "      <th>0</th>\n",
       "      <td>Sunny</td>\n",
       "      <td>Hot</td>\n",
       "      <td>High</td>\n",
       "      <td>Weak</td>\n",
       "      <td>No</td>\n",
       "    </tr>\n",
       "    <tr>\n",
       "      <th>1</th>\n",
       "      <td>Sunny</td>\n",
       "      <td>Hot</td>\n",
       "      <td>High</td>\n",
       "      <td>Strong</td>\n",
       "      <td>No</td>\n",
       "    </tr>\n",
       "    <tr>\n",
       "      <th>2</th>\n",
       "      <td>Overcast</td>\n",
       "      <td>Hot</td>\n",
       "      <td>High</td>\n",
       "      <td>Weak</td>\n",
       "      <td>Yes</td>\n",
       "    </tr>\n",
       "    <tr>\n",
       "      <th>3</th>\n",
       "      <td>Rain</td>\n",
       "      <td>Mild</td>\n",
       "      <td>High</td>\n",
       "      <td>Weak</td>\n",
       "      <td>Yes</td>\n",
       "    </tr>\n",
       "    <tr>\n",
       "      <th>4</th>\n",
       "      <td>Rain</td>\n",
       "      <td>Cool</td>\n",
       "      <td>Normal</td>\n",
       "      <td>Weak</td>\n",
       "      <td>Yes</td>\n",
       "    </tr>\n",
       "    <tr>\n",
       "      <th>5</th>\n",
       "      <td>Rain</td>\n",
       "      <td>Cool</td>\n",
       "      <td>Normal</td>\n",
       "      <td>Strong</td>\n",
       "      <td>No</td>\n",
       "    </tr>\n",
       "    <tr>\n",
       "      <th>6</th>\n",
       "      <td>Overcast</td>\n",
       "      <td>Cool</td>\n",
       "      <td>Normal</td>\n",
       "      <td>Strong</td>\n",
       "      <td>Yes</td>\n",
       "    </tr>\n",
       "    <tr>\n",
       "      <th>7</th>\n",
       "      <td>Sunny</td>\n",
       "      <td>Mild</td>\n",
       "      <td>High</td>\n",
       "      <td>Weak</td>\n",
       "      <td>No</td>\n",
       "    </tr>\n",
       "    <tr>\n",
       "      <th>8</th>\n",
       "      <td>Sunny</td>\n",
       "      <td>Cool</td>\n",
       "      <td>Normal</td>\n",
       "      <td>Weak</td>\n",
       "      <td>Yes</td>\n",
       "    </tr>\n",
       "    <tr>\n",
       "      <th>9</th>\n",
       "      <td>Rain</td>\n",
       "      <td>Mild</td>\n",
       "      <td>Normal</td>\n",
       "      <td>Weak</td>\n",
       "      <td>Yes</td>\n",
       "    </tr>\n",
       "    <tr>\n",
       "      <th>10</th>\n",
       "      <td>Sunny</td>\n",
       "      <td>Mild</td>\n",
       "      <td>Normal</td>\n",
       "      <td>Strong</td>\n",
       "      <td>Yes</td>\n",
       "    </tr>\n",
       "    <tr>\n",
       "      <th>11</th>\n",
       "      <td>Overcast</td>\n",
       "      <td>Mild</td>\n",
       "      <td>High</td>\n",
       "      <td>Strong</td>\n",
       "      <td>Yes</td>\n",
       "    </tr>\n",
       "    <tr>\n",
       "      <th>12</th>\n",
       "      <td>Overcast</td>\n",
       "      <td>Hot</td>\n",
       "      <td>Normal</td>\n",
       "      <td>Weak</td>\n",
       "      <td>Yes</td>\n",
       "    </tr>\n",
       "    <tr>\n",
       "      <th>13</th>\n",
       "      <td>Rain</td>\n",
       "      <td>Mild</td>\n",
       "      <td>High</td>\n",
       "      <td>Strong</td>\n",
       "      <td>No</td>\n",
       "    </tr>\n",
       "  </tbody>\n",
       "</table>\n",
       "</div>"
      ],
      "text/plain": [
       "     outlook  temp humidity    wind play\n",
       "0      Sunny   Hot     High    Weak   No\n",
       "1      Sunny   Hot     High  Strong   No\n",
       "2   Overcast   Hot     High    Weak  Yes\n",
       "3       Rain  Mild     High    Weak  Yes\n",
       "4       Rain  Cool   Normal    Weak  Yes\n",
       "5       Rain  Cool   Normal  Strong   No\n",
       "6   Overcast  Cool   Normal  Strong  Yes\n",
       "7      Sunny  Mild     High    Weak   No\n",
       "8      Sunny  Cool   Normal    Weak  Yes\n",
       "9       Rain  Mild   Normal    Weak  Yes\n",
       "10     Sunny  Mild   Normal  Strong  Yes\n",
       "11  Overcast  Mild     High  Strong  Yes\n",
       "12  Overcast   Hot   Normal    Weak  Yes\n",
       "13      Rain  Mild     High  Strong   No"
      ]
     },
     "execution_count": 31,
     "metadata": {},
     "output_type": "execute_result"
    }
   ],
   "source": [
    "dataset = pd.read_csv(\"play_tennis.csv\")\n",
    "dataset.head(15)"
   ]
  },
  {
   "cell_type": "markdown",
   "id": "db87d18d",
   "metadata": {},
   "source": [
    "# SUNNY"
   ]
  },
  {
   "cell_type": "code",
   "execution_count": 32,
   "id": "14b0759d",
   "metadata": {},
   "outputs": [
    {
     "data": {
      "text/html": [
       "<div>\n",
       "<style scoped>\n",
       "    .dataframe tbody tr th:only-of-type {\n",
       "        vertical-align: middle;\n",
       "    }\n",
       "\n",
       "    .dataframe tbody tr th {\n",
       "        vertical-align: top;\n",
       "    }\n",
       "\n",
       "    .dataframe thead th {\n",
       "        text-align: right;\n",
       "    }\n",
       "</style>\n",
       "<table border=\"1\" class=\"dataframe\">\n",
       "  <thead>\n",
       "    <tr style=\"text-align: right;\">\n",
       "      <th></th>\n",
       "      <th>temp</th>\n",
       "      <th>humidity</th>\n",
       "      <th>wind</th>\n",
       "      <th>play</th>\n",
       "    </tr>\n",
       "  </thead>\n",
       "  <tbody>\n",
       "    <tr>\n",
       "      <th>0</th>\n",
       "      <td>Hot</td>\n",
       "      <td>High</td>\n",
       "      <td>Weak</td>\n",
       "      <td>No</td>\n",
       "    </tr>\n",
       "    <tr>\n",
       "      <th>1</th>\n",
       "      <td>Hot</td>\n",
       "      <td>High</td>\n",
       "      <td>Strong</td>\n",
       "      <td>No</td>\n",
       "    </tr>\n",
       "    <tr>\n",
       "      <th>7</th>\n",
       "      <td>Mild</td>\n",
       "      <td>High</td>\n",
       "      <td>Weak</td>\n",
       "      <td>No</td>\n",
       "    </tr>\n",
       "    <tr>\n",
       "      <th>8</th>\n",
       "      <td>Cool</td>\n",
       "      <td>Normal</td>\n",
       "      <td>Weak</td>\n",
       "      <td>Yes</td>\n",
       "    </tr>\n",
       "    <tr>\n",
       "      <th>10</th>\n",
       "      <td>Mild</td>\n",
       "      <td>Normal</td>\n",
       "      <td>Strong</td>\n",
       "      <td>Yes</td>\n",
       "    </tr>\n",
       "  </tbody>\n",
       "</table>\n",
       "</div>"
      ],
      "text/plain": [
       "    temp humidity    wind play\n",
       "0    Hot     High    Weak   No\n",
       "1    Hot     High  Strong   No\n",
       "7   Mild     High    Weak   No\n",
       "8   Cool   Normal    Weak  Yes\n",
       "10  Mild   Normal  Strong  Yes"
      ]
     },
     "execution_count": 32,
     "metadata": {},
     "output_type": "execute_result"
    }
   ],
   "source": [
    "Sunny_dataset = dataset.loc[[0, 1, 7,8,10], :]\n",
    "Sunny_dataset. drop('outlook', axis=1, inplace=True)\n",
    "Sunny_dataset.head()"
   ]
  },
  {
   "cell_type": "code",
   "execution_count": 33,
   "id": "ddd3129e",
   "metadata": {},
   "outputs": [
    {
     "name": "stdout",
     "output_type": "stream",
     "text": [
      "entropy: 0.971\n"
     ]
    }
   ],
   "source": [
    "# calculate the entropy for a dataset\n",
    "from math import log2\n",
    "# proportion of examples in each class\n",
    "class_yes = 2/5\n",
    "class_no = 3/5\n",
    "# calculate entropy\n",
    "Sunny_entropy = (-class_yes * log2(class_yes) - class_no * log2(class_no))\n",
    "# print the result\n",
    "print('entropy: %.3f' % Sunny_entropy)"
   ]
  },
  {
   "cell_type": "markdown",
   "id": "dbd8da57",
   "metadata": {},
   "source": [
    "## THE FIRST ATTRIBUTE \"temp\""
   ]
  },
  {
   "cell_type": "code",
   "execution_count": 34,
   "id": "cb66a590",
   "metadata": {},
   "outputs": [
    {
     "name": "stdout",
     "output_type": "stream",
     "text": [
      "['Hot' 'Mild' 'Cool']\n"
     ]
    }
   ],
   "source": [
    "temp_values = Sunny_dataset[\"temp\"].unique()\n",
    "print(temp_values)"
   ]
  },
  {
   "cell_type": "code",
   "execution_count": 35,
   "id": "6c64081e",
   "metadata": {},
   "outputs": [
    {
     "name": "stdout",
     "output_type": "stream",
     "text": [
      "temp\n",
      "Cool    1\n",
      "Hot     2\n",
      "Mild    2\n",
      "Name: temp, dtype: int64\n"
     ]
    }
   ],
   "source": [
    "values = Sunny_dataset.groupby('temp')['temp'].count()\n",
    "print (values)"
   ]
  },
  {
   "cell_type": "raw",
   "id": "48a7dbfc",
   "metadata": {},
   "source": [
    "# Categorical values of temp - Cool, Hot and Mild\n",
    "Total count of row containing:\n",
    "  Cool = 1\n",
    "  Cool & Yes = 1\n",
    "  Cool & No = 0\n",
    ">> H(temp=Cool) = -(1/1)*log(1/1)-0 = 0\n",
    "Total count of row containing:  \n",
    "  Hot = 2\n",
    "  Hot & Yes = 0\n",
    "  Hot & No = 2\n",
    ">> H(temp=Hot) = -0-(2/2)*log(2/2) = 0\n",
    "Total count of row containing:  \n",
    "  Mild = 2\n",
    "  Mild & Yes = 1\n",
    "  Mild & No = 1\n",
    ">> H(temp=Hot) = -(1/2)*log(1/2)-(1/2)*log(1/2) = 1"
   ]
  },
  {
   "cell_type": "markdown",
   "id": "cd0c3cb1",
   "metadata": {},
   "source": [
    "## COOL_ENTROPY"
   ]
  },
  {
   "cell_type": "code",
   "execution_count": 36,
   "id": "15ae5d35",
   "metadata": {},
   "outputs": [
    {
     "name": "stdout",
     "output_type": "stream",
     "text": [
      "entropy: -0.000\n"
     ]
    }
   ],
   "source": [
    "# calculate the entropy for a dataset\n",
    "from math import log2\n",
    "# proportion of examples in each class\n",
    "class_yes = 1/1\n",
    "class_no = 0/1\n",
    "# calculate entropy\n",
    "Cool_entropy = -(class_yes * log2(class_yes) - class_no * 0)\n",
    "# print the result\n",
    "print('entropy: %.3f' % Cool_entropy)"
   ]
  },
  {
   "cell_type": "markdown",
   "id": "9cc84b32",
   "metadata": {},
   "source": [
    "## HOT_ENTROPY"
   ]
  },
  {
   "cell_type": "code",
   "execution_count": 37,
   "id": "41f4be5f",
   "metadata": {},
   "outputs": [
    {
     "name": "stdout",
     "output_type": "stream",
     "text": [
      "entropy: -0.000\n"
     ]
    }
   ],
   "source": [
    "# calculate the entropy for a dataset\n",
    "from math import log2\n",
    "# proportion of examples in each class\n",
    "class_yes = 0/2\n",
    "class_no = 2/2\n",
    "# calculate entropy\n",
    "Hot_entropy = (-class_yes * 0 - class_no * log2(class_no))\n",
    "# print the result\n",
    "print('entropy: %.3f' % Hot_entropy)"
   ]
  },
  {
   "cell_type": "markdown",
   "id": "2b39a4e4",
   "metadata": {},
   "source": [
    "## MILD_ENTROPY "
   ]
  },
  {
   "cell_type": "code",
   "execution_count": 38,
   "id": "a2093bec",
   "metadata": {},
   "outputs": [
    {
     "name": "stdout",
     "output_type": "stream",
     "text": [
      "entropy: 1.000\n"
     ]
    }
   ],
   "source": [
    "# calculate the entropy for a dataset\n",
    "from math import log2\n",
    "# proportion of examples in each class\n",
    "class_yes = 1/2\n",
    "class_no = 1/2\n",
    "# calculate entropy\n",
    "Mild_entropy = (-class_yes * log2(class_yes) - class_no * log2(class_no))\n",
    "# print the result\n",
    "print('entropy: %.3f' % Mild_entropy)"
   ]
  },
  {
   "cell_type": "markdown",
   "id": "de51f07f",
   "metadata": {},
   "source": [
    "## Calculating information gain for feature \"temp\""
   ]
  },
  {
   "cell_type": "raw",
   "id": "a18feba3",
   "metadata": {},
   "source": [
    "I(temp) = p(Cool) * H(temp=Cool) + p(Hot) * H(temp=Hot) + p(Mild) * H(temp=Mild)\n",
    "= (1/5)*0.000 + (2/5)*0.00 + (2/5)*1.00 \n",
    "= 0.400"
   ]
  },
  {
   "cell_type": "raw",
   "id": "1fc7cd1e",
   "metadata": {},
   "source": [
    "Information Gain = H(S) - I(temp)\n",
    "                 = 0.971 - 0.400\n",
    "                 = 0.571"
   ]
  },
  {
   "cell_type": "code",
   "execution_count": 39,
   "id": "a9ebb93e",
   "metadata": {},
   "outputs": [
    {
     "name": "stdout",
     "output_type": "stream",
     "text": [
      "Average Entropy : 0.400\n"
     ]
    }
   ],
   "source": [
    "# calculate the information gain\n",
    "p_Cool=1/5\n",
    "p_Hot=2/5\n",
    "p_Mild=2/5\n",
    "Average_entropy = (p_Cool * Cool_entropy) + (p_Hot * Hot_entropy)+ (p_Mild * Mild_entropy)  \n",
    "print('Average Entropy : %.3f' % Average_entropy)"
   ]
  },
  {
   "cell_type": "code",
   "execution_count": 40,
   "id": "527db8d8",
   "metadata": {},
   "outputs": [
    {
     "name": "stdout",
     "output_type": "stream",
     "text": [
      "Information Gain : 0.571\n"
     ]
    }
   ],
   "source": [
    "Temp_Info_Gain = Sunny_entropy - Average_entropy\n",
    "print('Information Gain : %.3f' % Temp_Info_Gain)"
   ]
  },
  {
   "cell_type": "markdown",
   "id": "eb58e6f0",
   "metadata": {},
   "source": [
    "# THE SECOND ATTRIBUTE \"humidity\""
   ]
  },
  {
   "cell_type": "code",
   "execution_count": 41,
   "id": "a4c58bb5",
   "metadata": {},
   "outputs": [
    {
     "name": "stdout",
     "output_type": "stream",
     "text": [
      "['High' 'Normal']\n"
     ]
    }
   ],
   "source": [
    "humidity_values = Sunny_dataset[\"humidity\"].unique()\n",
    "print(humidity_values)"
   ]
  },
  {
   "cell_type": "code",
   "execution_count": 42,
   "id": "ed167613",
   "metadata": {},
   "outputs": [
    {
     "name": "stdout",
     "output_type": "stream",
     "text": [
      "humidity\n",
      "High      3\n",
      "Normal    2\n",
      "Name: humidity, dtype: int64\n"
     ]
    }
   ],
   "source": [
    "values = Sunny_dataset.groupby('humidity')['humidity'].count()\n",
    "print (values)"
   ]
  },
  {
   "cell_type": "raw",
   "id": "6a0c43d3",
   "metadata": {},
   "source": [
    "# Categorical values of temp - Cool, Hot and Mild\n",
    "Total count of row containing:\n",
    "  High = 3\n",
    "  High & Yes = 0\n",
    "  High & No = 3\n",
    ">> H(humidity=High) = -(3/3)*log(3/3)-0 = 0\n",
    "Total count of row containing:  \n",
    "  Normal = 2\n",
    "  Normal & Yes = 2\n",
    "  Normal & No = 0\n",
    ">> H(humidity=Normal) = ) = -(2/2)*log(2/2)-0 = 0"
   ]
  },
  {
   "cell_type": "markdown",
   "id": "a95cbe24",
   "metadata": {},
   "source": [
    "## HIGH_ENTROPY"
   ]
  },
  {
   "cell_type": "code",
   "execution_count": 43,
   "id": "9d0f348e",
   "metadata": {},
   "outputs": [
    {
     "name": "stdout",
     "output_type": "stream",
     "text": [
      "entropy: -0.000\n"
     ]
    }
   ],
   "source": [
    "# calculate the entropy for a dataset\n",
    "from math import log2\n",
    "# proportion of examples in each class\n",
    "class_yes = 0/3\n",
    "class_no = 3/3\n",
    "# calculate entropy\n",
    "High_entropy = -(class_yes * 0 - class_no * 0)\n",
    "# print the result\n",
    "print('entropy: %.3f' % High_entropy)"
   ]
  },
  {
   "cell_type": "markdown",
   "id": "e628b42d",
   "metadata": {},
   "source": [
    "## NORMAL_ENTROPY"
   ]
  },
  {
   "cell_type": "code",
   "execution_count": 44,
   "id": "0de36830",
   "metadata": {},
   "outputs": [
    {
     "name": "stdout",
     "output_type": "stream",
     "text": [
      "entropy: -0.000\n"
     ]
    }
   ],
   "source": [
    "# calculate the entropy for a dataset\n",
    "from math import log2\n",
    "# proportion of examples in each class\n",
    "class_yes = 2/2\n",
    "class_no = 0/2\n",
    "# calculate entropy\n",
    "Normal_entropy = -(class_yes * log2(class_yes) - class_no * 0)\n",
    "# print the result\n",
    "print('entropy: %.3f' % Normal_entropy)"
   ]
  },
  {
   "cell_type": "markdown",
   "id": "e92f8238",
   "metadata": {},
   "source": [
    "# Calculating information gain for feature \"humidity\""
   ]
  },
  {
   "cell_type": "raw",
   "id": "27a83765",
   "metadata": {},
   "source": [
    "I(humidity) = p(High) * H(humidity=high) + p(Normal) * H(humidity=Normal)\n",
    "= (3/5)*0.000 + (2/5)*0.00 \n",
    "= 0.00"
   ]
  },
  {
   "cell_type": "raw",
   "id": "973c39e5",
   "metadata": {},
   "source": [
    "Information Gain = H(S) - I(humidity)\n",
    "                 = 0.971 - 0.000\n",
    "                 = 0.971"
   ]
  },
  {
   "cell_type": "code",
   "execution_count": 45,
   "id": "c5b33c28",
   "metadata": {},
   "outputs": [
    {
     "name": "stdout",
     "output_type": "stream",
     "text": [
      "Average Entropy : -0.000\n"
     ]
    }
   ],
   "source": [
    "# calculate the information gain\n",
    "p_High=3/5\n",
    "p_Normal=2/5\n",
    "Average_entropy = (p_High * High_entropy) + (p_Normal * Normal_entropy)  \n",
    "print('Average Entropy : %.3f' % Average_entropy)"
   ]
  },
  {
   "cell_type": "code",
   "execution_count": 46,
   "id": "3dbc80c6",
   "metadata": {},
   "outputs": [
    {
     "name": "stdout",
     "output_type": "stream",
     "text": [
      "Information Gain : 0.971\n"
     ]
    }
   ],
   "source": [
    "Humidity_Info_Gain = Sunny_entropy - Average_entropy\n",
    "print('Information Gain : %.3f' % Humidity_Info_Gain)"
   ]
  },
  {
   "cell_type": "markdown",
   "id": "9c193828",
   "metadata": {},
   "source": [
    "# THE THIRD ATTRIBUTE \"wind\""
   ]
  },
  {
   "cell_type": "code",
   "execution_count": 47,
   "id": "4ae8896e",
   "metadata": {},
   "outputs": [
    {
     "name": "stdout",
     "output_type": "stream",
     "text": [
      "['Weak' 'Strong']\n"
     ]
    }
   ],
   "source": [
    "wind_values = Sunny_dataset[\"wind\"].unique()\n",
    "print(wind_values)"
   ]
  },
  {
   "cell_type": "code",
   "execution_count": 48,
   "id": "8c77034e",
   "metadata": {},
   "outputs": [
    {
     "name": "stdout",
     "output_type": "stream",
     "text": [
      "wind\n",
      "Strong    2\n",
      "Weak      3\n",
      "Name: wind, dtype: int64\n"
     ]
    }
   ],
   "source": [
    "values = Sunny_dataset.groupby('wind')['wind'].count()\n",
    "print (values)"
   ]
  },
  {
   "cell_type": "raw",
   "id": "7b4aa8c9",
   "metadata": {},
   "source": [
    "# Categorical values of temp - Cool, Hot and Mild\n",
    "Total count of row containing:\n",
    "  Strong = 2\n",
    "  Strong & Yes = 1\n",
    "  Strong & No = 1\n",
    ">> H(humidity=High) = -(1/2)*log(1/2)-(1/2)*log(1/2)\n",
    "Total count of row containing:  \n",
    "  Weak = 3\n",
    "  Weak & Yes = 1\n",
    "  Weak & No = 2\n",
    ">> H(humidity=Normal) = ) = -(1/3)*log(1/3)-(2/3)*log(2/3)"
   ]
  },
  {
   "cell_type": "markdown",
   "id": "52b01066",
   "metadata": {},
   "source": [
    "## STRONG_ENTROPY"
   ]
  },
  {
   "cell_type": "code",
   "execution_count": 49,
   "id": "944bea08",
   "metadata": {},
   "outputs": [
    {
     "name": "stdout",
     "output_type": "stream",
     "text": [
      "entropy: 1.000\n"
     ]
    }
   ],
   "source": [
    "# calculate the entropy for a dataset\n",
    "from math import log2\n",
    "# proportion of examples in each class\n",
    "class_yes = 1/2\n",
    "class_no = 1/2\n",
    "# calculate entropy\n",
    "Strong_entropy = (-class_yes * log2(class_yes) - class_no * log2(class_no))\n",
    "# print the result\n",
    "print('entropy: %.3f' % Strong_entropy)"
   ]
  },
  {
   "cell_type": "markdown",
   "id": "7d514c01",
   "metadata": {},
   "source": [
    "## WEAK_ENTROPY"
   ]
  },
  {
   "cell_type": "code",
   "execution_count": 50,
   "id": "93886f4c",
   "metadata": {},
   "outputs": [
    {
     "name": "stdout",
     "output_type": "stream",
     "text": [
      "entropy: 0.918\n"
     ]
    }
   ],
   "source": [
    "# calculate the entropy for a dataset\n",
    "from math import log2\n",
    "# proportion of examples in each class\n",
    "class_yes = 1/3\n",
    "class_no = 2/3\n",
    "# calculate entropy\n",
    "Weak_entropy = (-class_yes * log2(class_yes) - class_no * log2(class_no))\n",
    "# print the result\n",
    "print('entropy: %.3f' % Weak_entropy)"
   ]
  },
  {
   "cell_type": "markdown",
   "id": "2a1e3ae8",
   "metadata": {},
   "source": [
    "# Calculating information gain for feature \"humidity\""
   ]
  },
  {
   "cell_type": "code",
   "execution_count": 51,
   "id": "a6f6ab1f",
   "metadata": {},
   "outputs": [
    {
     "name": "stdout",
     "output_type": "stream",
     "text": [
      "Average Entropy : 0.951\n"
     ]
    }
   ],
   "source": [
    "# calculate the information gain\n",
    "p_Strong=2/5\n",
    "p_Weak=3/5\n",
    "Average_entropy = (p_Strong * Strong_entropy) + (p_Weak * Weak_entropy)  \n",
    "print('Average Entropy : %.3f' % Average_entropy)"
   ]
  },
  {
   "cell_type": "code",
   "execution_count": 52,
   "id": "99d9a4dc",
   "metadata": {},
   "outputs": [
    {
     "name": "stdout",
     "output_type": "stream",
     "text": [
      "Information Gain : 0.020\n"
     ]
    }
   ],
   "source": [
    "Wind_Info_Gain = Sunny_entropy - Average_entropy\n",
    "print('Information Gain : %.3f' % Wind_Info_Gain)"
   ]
  },
  {
   "cell_type": "markdown",
   "id": "7c2d654b",
   "metadata": {},
   "source": [
    "# Finding the most informative Attributes"
   ]
  },
  {
   "cell_type": "code",
   "execution_count": 53,
   "id": "1eb3d973",
   "metadata": {},
   "outputs": [
    {
     "name": "stdout",
     "output_type": "stream",
     "text": [
      "Gain(S, Temp) : 0.571\n",
      "Gain(S, Humidity) : 0.971\n",
      "Gain(S, Wind) : 0.020\n"
     ]
    }
   ],
   "source": [
    "Temp_Gain =  Temp_Info_Gain\n",
    "Humidity_Gain = Humidity_Info_Gain\n",
    "Wind_Gain = Wind_Info_Gain\n",
    "\n",
    "\n",
    "print('Gain(S, Temp) : %.3f' % Temp_Gain)\n",
    "print('Gain(S, Humidity) : %.3f' % Humidity_Gain)\n",
    "print('Gain(S, Wind) : %.3f' % Wind_Gain)"
   ]
  },
  {
   "cell_type": "markdown",
   "id": "b837f384",
   "metadata": {},
   "source": [
    "We can see that the label \"humidity has the highest information gain of 0.971. Hence we can consider it as a root node."
   ]
  },
  {
   "cell_type": "code",
   "execution_count": 54,
   "id": "d2392213",
   "metadata": {},
   "outputs": [
    {
     "data": {
      "text/html": [
       "<div>\n",
       "<style scoped>\n",
       "    .dataframe tbody tr th:only-of-type {\n",
       "        vertical-align: middle;\n",
       "    }\n",
       "\n",
       "    .dataframe tbody tr th {\n",
       "        vertical-align: top;\n",
       "    }\n",
       "\n",
       "    .dataframe thead th {\n",
       "        text-align: right;\n",
       "    }\n",
       "</style>\n",
       "<table border=\"1\" class=\"dataframe\">\n",
       "  <thead>\n",
       "    <tr style=\"text-align: right;\">\n",
       "      <th></th>\n",
       "      <th>temp</th>\n",
       "      <th>humidity</th>\n",
       "      <th>wind</th>\n",
       "      <th>play</th>\n",
       "    </tr>\n",
       "  </thead>\n",
       "  <tbody>\n",
       "    <tr>\n",
       "      <th>0</th>\n",
       "      <td>Hot</td>\n",
       "      <td>High</td>\n",
       "      <td>Weak</td>\n",
       "      <td>No</td>\n",
       "    </tr>\n",
       "    <tr>\n",
       "      <th>1</th>\n",
       "      <td>Hot</td>\n",
       "      <td>High</td>\n",
       "      <td>Strong</td>\n",
       "      <td>No</td>\n",
       "    </tr>\n",
       "    <tr>\n",
       "      <th>7</th>\n",
       "      <td>Mild</td>\n",
       "      <td>High</td>\n",
       "      <td>Weak</td>\n",
       "      <td>No</td>\n",
       "    </tr>\n",
       "    <tr>\n",
       "      <th>8</th>\n",
       "      <td>Cool</td>\n",
       "      <td>Normal</td>\n",
       "      <td>Weak</td>\n",
       "      <td>Yes</td>\n",
       "    </tr>\n",
       "    <tr>\n",
       "      <th>10</th>\n",
       "      <td>Mild</td>\n",
       "      <td>Normal</td>\n",
       "      <td>Strong</td>\n",
       "      <td>Yes</td>\n",
       "    </tr>\n",
       "  </tbody>\n",
       "</table>\n",
       "</div>"
      ],
      "text/plain": [
       "    temp humidity    wind play\n",
       "0    Hot     High    Weak   No\n",
       "1    Hot     High  Strong   No\n",
       "7   Mild     High    Weak   No\n",
       "8   Cool   Normal    Weak  Yes\n",
       "10  Mild   Normal  Strong  Yes"
      ]
     },
     "execution_count": 54,
     "metadata": {},
     "output_type": "execute_result"
    }
   ],
   "source": [
    "Sunny_dataset.head()"
   ]
  },
  {
   "cell_type": "markdown",
   "id": "b09f49e3",
   "metadata": {},
   "source": [
    "From the dataset, we can know that whenever there is high humidity, the label is No and whenever the humidity is normal, the label is yes. Hence the tree can be drawn as:"
   ]
  },
  {
   "cell_type": "markdown",
   "id": "8cf33aa8",
   "metadata": {},
   "source": [
    "![](tree_diagram.png)"
   ]
  },
  {
   "cell_type": "markdown",
   "id": "6d5bbb52",
   "metadata": {},
   "source": [
    "# RAIN"
   ]
  },
  {
   "cell_type": "code",
   "execution_count": 55,
   "id": "04af6965",
   "metadata": {},
   "outputs": [
    {
     "data": {
      "text/html": [
       "<div>\n",
       "<style scoped>\n",
       "    .dataframe tbody tr th:only-of-type {\n",
       "        vertical-align: middle;\n",
       "    }\n",
       "\n",
       "    .dataframe tbody tr th {\n",
       "        vertical-align: top;\n",
       "    }\n",
       "\n",
       "    .dataframe thead th {\n",
       "        text-align: right;\n",
       "    }\n",
       "</style>\n",
       "<table border=\"1\" class=\"dataframe\">\n",
       "  <thead>\n",
       "    <tr style=\"text-align: right;\">\n",
       "      <th></th>\n",
       "      <th>temp</th>\n",
       "      <th>humidity</th>\n",
       "      <th>wind</th>\n",
       "      <th>play</th>\n",
       "    </tr>\n",
       "  </thead>\n",
       "  <tbody>\n",
       "    <tr>\n",
       "      <th>3</th>\n",
       "      <td>Mild</td>\n",
       "      <td>High</td>\n",
       "      <td>Weak</td>\n",
       "      <td>Yes</td>\n",
       "    </tr>\n",
       "    <tr>\n",
       "      <th>4</th>\n",
       "      <td>Cool</td>\n",
       "      <td>Normal</td>\n",
       "      <td>Weak</td>\n",
       "      <td>Yes</td>\n",
       "    </tr>\n",
       "    <tr>\n",
       "      <th>5</th>\n",
       "      <td>Cool</td>\n",
       "      <td>Normal</td>\n",
       "      <td>Strong</td>\n",
       "      <td>No</td>\n",
       "    </tr>\n",
       "    <tr>\n",
       "      <th>9</th>\n",
       "      <td>Mild</td>\n",
       "      <td>Normal</td>\n",
       "      <td>Weak</td>\n",
       "      <td>Yes</td>\n",
       "    </tr>\n",
       "    <tr>\n",
       "      <th>13</th>\n",
       "      <td>Mild</td>\n",
       "      <td>High</td>\n",
       "      <td>Strong</td>\n",
       "      <td>No</td>\n",
       "    </tr>\n",
       "  </tbody>\n",
       "</table>\n",
       "</div>"
      ],
      "text/plain": [
       "    temp humidity    wind play\n",
       "3   Mild     High    Weak  Yes\n",
       "4   Cool   Normal    Weak  Yes\n",
       "5   Cool   Normal  Strong   No\n",
       "9   Mild   Normal    Weak  Yes\n",
       "13  Mild     High  Strong   No"
      ]
     },
     "execution_count": 55,
     "metadata": {},
     "output_type": "execute_result"
    }
   ],
   "source": [
    "Rain_dataset = dataset.loc[[3, 4, 5,9,13], :]\n",
    "Rain_dataset. drop('outlook', axis=1, inplace=True)\n",
    "Rain_dataset.head()"
   ]
  },
  {
   "cell_type": "code",
   "execution_count": 56,
   "id": "8a427199",
   "metadata": {},
   "outputs": [
    {
     "name": "stdout",
     "output_type": "stream",
     "text": [
      "entropy: 0.971\n"
     ]
    }
   ],
   "source": [
    "# calculate the entropy for a dataset\n",
    "from math import log2\n",
    "# proportion of examples in each class\n",
    "class_yes = 3/5\n",
    "class_no = 2/5\n",
    "# calculate entropy\n",
    "Rain_entropy = (-class_yes * log2(class_yes) - class_no * log2(class_no))\n",
    "# print the result\n",
    "print('entropy: %.3f' % Rain_entropy)"
   ]
  },
  {
   "cell_type": "markdown",
   "id": "70081d67",
   "metadata": {},
   "source": [
    "## THE FIRST ATTRIBUTE \"temp\""
   ]
  },
  {
   "cell_type": "code",
   "execution_count": 57,
   "id": "41029de5",
   "metadata": {},
   "outputs": [
    {
     "name": "stdout",
     "output_type": "stream",
     "text": [
      "['Mild' 'Cool']\n"
     ]
    }
   ],
   "source": [
    "temp_values = Rain_dataset[\"temp\"].unique()\n",
    "print(temp_values)"
   ]
  },
  {
   "cell_type": "code",
   "execution_count": 58,
   "id": "d85c49f8",
   "metadata": {},
   "outputs": [
    {
     "name": "stdout",
     "output_type": "stream",
     "text": [
      "temp\n",
      "Cool    2\n",
      "Mild    3\n",
      "Name: temp, dtype: int64\n"
     ]
    }
   ],
   "source": [
    "values = Rain_dataset.groupby('temp')['temp'].count()\n",
    "print (values)"
   ]
  },
  {
   "cell_type": "raw",
   "id": "db4b0cc9",
   "metadata": {},
   "source": [
    "# Categorical values of temp - Cool, Hot and Mild\n",
    "Total count of row containing:\n",
    "  Cool = 2\n",
    "  Cool & Yes = 1\n",
    "  Cool & No = 1\n",
    ">> H(temp=Cool) = \n",
    "Total count of row containing:  \n",
    "  Mild = 3\n",
    "  Mild & Yes = 2\n",
    "  Mild & No = 1\n",
    ">> H(temp=Mild) = "
   ]
  },
  {
   "cell_type": "markdown",
   "id": "4ac58756",
   "metadata": {},
   "source": [
    "## COOL_ENTROPY"
   ]
  },
  {
   "cell_type": "code",
   "execution_count": 59,
   "id": "3ed9d04d",
   "metadata": {},
   "outputs": [
    {
     "name": "stdout",
     "output_type": "stream",
     "text": [
      "entropy: 1.000\n"
     ]
    }
   ],
   "source": [
    "# calculate the entropy for a dataset\n",
    "from math import log2\n",
    "# proportion of examples in each class\n",
    "class_yes = 1/2\n",
    "class_no = 1/2\n",
    "# calculate entropy\n",
    "Cool_entropy = (-class_yes * log2(class_yes) - class_no * log2(class_no))\n",
    "# print the result\n",
    "print('entropy: %.3f' % Cool_entropy)"
   ]
  },
  {
   "cell_type": "markdown",
   "id": "e17e404b",
   "metadata": {},
   "source": [
    "## MILD_ENTROPY"
   ]
  },
  {
   "cell_type": "code",
   "execution_count": 60,
   "id": "e4a444f7",
   "metadata": {},
   "outputs": [
    {
     "name": "stdout",
     "output_type": "stream",
     "text": [
      "entropy: 0.918\n"
     ]
    }
   ],
   "source": [
    "# calculate the entropy for a dataset\n",
    "from math import log2\n",
    "# proportion of examples in each class\n",
    "class_yes = 2/3\n",
    "class_no = 1/3\n",
    "# calculate entropy\n",
    "Mild_entropy = (-class_yes * log2(class_yes) - class_no * log2(class_no))\n",
    "# print the result\n",
    "print('entropy: %.3f' % Mild_entropy)"
   ]
  },
  {
   "cell_type": "markdown",
   "id": "7d6e70ee",
   "metadata": {},
   "source": [
    "# Calculating information gain for feature \"temp\""
   ]
  },
  {
   "cell_type": "code",
   "execution_count": 61,
   "id": "3aeea303",
   "metadata": {},
   "outputs": [
    {
     "name": "stdout",
     "output_type": "stream",
     "text": [
      "Average Entropy : 0.951\n"
     ]
    }
   ],
   "source": [
    "# calculate the information gain\n",
    "p_Cool=2/5\n",
    "p_Mild=3/5\n",
    "Average_entropy = (p_Cool * Cool_entropy) + (p_Mild * Mild_entropy)  \n",
    "print('Average Entropy : %.3f' % Average_entropy)"
   ]
  },
  {
   "cell_type": "code",
   "execution_count": 62,
   "id": "113cc4cb",
   "metadata": {},
   "outputs": [
    {
     "name": "stdout",
     "output_type": "stream",
     "text": [
      "Information Gain : 0.020\n"
     ]
    }
   ],
   "source": [
    "Temp_Info_Gains = Sunny_entropy - Average_entropy\n",
    "print('Information Gain : %.3f' % Temp_Info_Gains)"
   ]
  },
  {
   "cell_type": "markdown",
   "id": "9edba03d",
   "metadata": {},
   "source": [
    "# THE SECOND ATTRIBUTE \"humidity\""
   ]
  },
  {
   "cell_type": "code",
   "execution_count": 63,
   "id": "57c1de1e",
   "metadata": {},
   "outputs": [
    {
     "name": "stdout",
     "output_type": "stream",
     "text": [
      "['High' 'Normal']\n"
     ]
    }
   ],
   "source": [
    "humidity_values = Rain_dataset[\"humidity\"].unique()\n",
    "print(humidity_values)"
   ]
  },
  {
   "cell_type": "code",
   "execution_count": 64,
   "id": "0154a583",
   "metadata": {},
   "outputs": [
    {
     "name": "stdout",
     "output_type": "stream",
     "text": [
      "humidity\n",
      "High      2\n",
      "Normal    3\n",
      "Name: humidity, dtype: int64\n"
     ]
    }
   ],
   "source": [
    "values = Rain_dataset.groupby('humidity')['humidity'].count()\n",
    "print (values)"
   ]
  },
  {
   "cell_type": "raw",
   "id": "ff184e8b",
   "metadata": {},
   "source": [
    "# Categorical values of temp - Cool, Hot and Mild\n",
    "Total count of row containing:\n",
    "  High = 2\n",
    "  High & Yes = 1\n",
    "  High & No = 1\n",
    ">> H(humidity=High) = -(1/2)*log(1/2)-(1/2)*log(1/2) = 1.000\n",
    "Total count of row containing:  \n",
    "  Normal = 3\n",
    "  Normal & Yes = 2\n",
    "  Normal & No = 1\n",
    ">> H(temp=Mild) = -(2/3)*log(2/3)-(1/3)*log(1/3) = 0.918"
   ]
  },
  {
   "cell_type": "markdown",
   "id": "0254a396",
   "metadata": {},
   "source": [
    "# HIGH_ENTROPY"
   ]
  },
  {
   "cell_type": "code",
   "execution_count": 65,
   "id": "3921b6d3",
   "metadata": {},
   "outputs": [
    {
     "name": "stdout",
     "output_type": "stream",
     "text": [
      "entropy: 1.000\n"
     ]
    }
   ],
   "source": [
    "# calculate the entropy for a dataset\n",
    "from math import log2\n",
    "# proportion of examples in each class\n",
    "class_yes = 1/2\n",
    "class_no = 1/2\n",
    "# calculate entropy\n",
    "High_entropy = (-class_yes * log2(class_yes) - class_no * log2(class_no))\n",
    "# print the result\n",
    "print('entropy: %.3f' % High_entropy)"
   ]
  },
  {
   "cell_type": "markdown",
   "id": "8866b406",
   "metadata": {},
   "source": [
    "# NORMAL_ENTROPY"
   ]
  },
  {
   "cell_type": "code",
   "execution_count": 66,
   "id": "e4ed1218",
   "metadata": {},
   "outputs": [
    {
     "name": "stdout",
     "output_type": "stream",
     "text": [
      "entropy: 0.918\n"
     ]
    }
   ],
   "source": [
    "# calculate the entropy for a dataset\n",
    "from math import log2\n",
    "# proportion of examples in each class\n",
    "class_yes = 2/3\n",
    "class_no = 1/3\n",
    "# calculate entropy\n",
    "Normal_entropy = (-class_yes * log2(class_yes) - class_no * log2(class_no))\n",
    "# print the result\n",
    "print('entropy: %.3f' % Normal_entropy)"
   ]
  },
  {
   "cell_type": "markdown",
   "id": "1db41c5a",
   "metadata": {},
   "source": [
    "# Calculating information gain for feature \"temp\""
   ]
  },
  {
   "cell_type": "code",
   "execution_count": 67,
   "id": "a1485751",
   "metadata": {},
   "outputs": [
    {
     "name": "stdout",
     "output_type": "stream",
     "text": [
      "Average Entropy : 0.951\n"
     ]
    }
   ],
   "source": [
    "# calculate the information gain\n",
    "p_Cool=2/5\n",
    "p_Mild=3/5\n",
    "Average_entropy = (p_Cool * Cool_entropy) + (p_Mild * Mild_entropy)  \n",
    "print('Average Entropy : %.3f' % Average_entropy)"
   ]
  },
  {
   "cell_type": "code",
   "execution_count": 68,
   "id": "96f81b7f",
   "metadata": {},
   "outputs": [
    {
     "name": "stdout",
     "output_type": "stream",
     "text": [
      "Information Gain : 0.020\n"
     ]
    }
   ],
   "source": [
    "Humidity_Info_Gains = Sunny_entropy - Average_entropy\n",
    "print('Information Gain : %.3f' % Humidity_Info_Gains)"
   ]
  },
  {
   "cell_type": "markdown",
   "id": "15ac07b3",
   "metadata": {},
   "source": [
    "# THE THIRD ATTRIBUTE \"wind\""
   ]
  },
  {
   "cell_type": "code",
   "execution_count": 69,
   "id": "0f023a10",
   "metadata": {},
   "outputs": [
    {
     "name": "stdout",
     "output_type": "stream",
     "text": [
      "['Weak' 'Strong']\n"
     ]
    }
   ],
   "source": [
    "humidity_values = Rain_dataset[\"wind\"].unique()\n",
    "print(humidity_values)"
   ]
  },
  {
   "cell_type": "code",
   "execution_count": 70,
   "id": "f248a43f",
   "metadata": {},
   "outputs": [
    {
     "name": "stdout",
     "output_type": "stream",
     "text": [
      "wind\n",
      "Strong    2\n",
      "Weak      3\n",
      "Name: wind, dtype: int64\n"
     ]
    }
   ],
   "source": [
    "values = Rain_dataset.groupby('wind')['wind'].count()\n",
    "print (values)"
   ]
  },
  {
   "cell_type": "raw",
   "id": "968d3102",
   "metadata": {},
   "source": [
    "# Categorical values of temp - Cool, Hot and Mild\n",
    "Total count of row containing:\n",
    "  Strong = 2\n",
    "  Strong & Yes = 0\n",
    "  Strong & No = 2\n",
    ">> H(wind=Strong) = -(1/2)*0 -(2/2)*log(2/2) = 0.000\n",
    "Total count of row containing:  \n",
    "  Weak = 3\n",
    "  Weak & Yes = 3\n",
    "  Weakl & No = 0\n",
    ">> H(wind=Weak) = -(3/3)*log(3/3)-(1/3)*0 = 0.00"
   ]
  },
  {
   "cell_type": "markdown",
   "id": "52436bf4",
   "metadata": {},
   "source": [
    "## STRONG_ENTROPY"
   ]
  },
  {
   "cell_type": "code",
   "execution_count": 71,
   "id": "9e1b5ef3",
   "metadata": {},
   "outputs": [
    {
     "name": "stdout",
     "output_type": "stream",
     "text": [
      "entropy: -0.000\n"
     ]
    }
   ],
   "source": [
    "# calculate the entropy for a dataset\n",
    "from math import log2\n",
    "# proportion of examples in each class\n",
    "class_yes = 0/2\n",
    "class_no = 2/2\n",
    "# calculate entropy\n",
    "Strong_entropy = (-class_yes * 0 - class_no * log2(class_no))\n",
    "# print the result\n",
    "print('entropy: %.3f' % Strong_entropy)"
   ]
  },
  {
   "cell_type": "markdown",
   "id": "2ba61208",
   "metadata": {},
   "source": [
    "## WEAK_ENTROPY"
   ]
  },
  {
   "cell_type": "code",
   "execution_count": 72,
   "id": "8a7af926",
   "metadata": {},
   "outputs": [
    {
     "name": "stdout",
     "output_type": "stream",
     "text": [
      "entropy: -0.000\n"
     ]
    }
   ],
   "source": [
    "# calculate the entropy for a dataset\n",
    "from math import log2\n",
    "# proportion of examples in each class\n",
    "class_yes = 3/3\n",
    "class_no = 0/3\n",
    "# calculate entropy\n",
    "Weak_entropy = (-class_yes * log2(class_yes) - class_no * 0)\n",
    "# print the result\n",
    "print('entropy: %.3f' % Weak_entropy)"
   ]
  },
  {
   "cell_type": "markdown",
   "id": "8b148a11",
   "metadata": {},
   "source": [
    "# Calculating information gain for feature \"temp\""
   ]
  },
  {
   "cell_type": "code",
   "execution_count": 73,
   "id": "565c3bdb",
   "metadata": {},
   "outputs": [
    {
     "name": "stdout",
     "output_type": "stream",
     "text": [
      "Average Entropy : -0.000\n"
     ]
    }
   ],
   "source": [
    "# calculate the information gain\n",
    "p_Strong=2/5\n",
    "p_Weak=3/5\n",
    "Average_entropy = (p_Strong * Strong_entropy) + (p_Weak * Weak_entropy)  \n",
    "print('Average Entropy : %.3f' % Average_entropy)"
   ]
  },
  {
   "cell_type": "code",
   "execution_count": 74,
   "id": "77da174e",
   "metadata": {},
   "outputs": [
    {
     "name": "stdout",
     "output_type": "stream",
     "text": [
      "Information Gain : 0.971\n"
     ]
    }
   ],
   "source": [
    "Wind_Info_Gains = Sunny_entropy - Average_entropy\n",
    "print('Information Gain : %.3f' % Wind_Info_Gains)"
   ]
  },
  {
   "cell_type": "code",
   "execution_count": 75,
   "id": "c0d08d24",
   "metadata": {},
   "outputs": [
    {
     "name": "stdout",
     "output_type": "stream",
     "text": [
      "Gain(S, Temp) : 0.020\n",
      "Gain(S, Humidity) : 0.020\n",
      "Gain(S, Wind) : 0.971\n"
     ]
    }
   ],
   "source": [
    "Temp_Gain =  Temp_Info_Gains\n",
    "Humidity_Gain = Humidity_Info_Gains\n",
    "Wind_Gain = Wind_Info_Gains\n",
    "\n",
    "\n",
    "print('Gain(S, Temp) : %.3f' % Temp_Gain)\n",
    "print('Gain(S, Humidity) : %.3f' % Humidity_Gain)\n",
    "print('Gain(S, Wind) : %.3f' % Wind_Gain)"
   ]
  },
  {
   "cell_type": "markdown",
   "id": "5cb69994",
   "metadata": {},
   "source": [
    "We can see that the label \"wind\" has the highest information gain of 0.971. Hence we can consider it as a root node"
   ]
  },
  {
   "cell_type": "code",
   "execution_count": 76,
   "id": "d59f525c",
   "metadata": {},
   "outputs": [
    {
     "data": {
      "text/html": [
       "<div>\n",
       "<style scoped>\n",
       "    .dataframe tbody tr th:only-of-type {\n",
       "        vertical-align: middle;\n",
       "    }\n",
       "\n",
       "    .dataframe tbody tr th {\n",
       "        vertical-align: top;\n",
       "    }\n",
       "\n",
       "    .dataframe thead th {\n",
       "        text-align: right;\n",
       "    }\n",
       "</style>\n",
       "<table border=\"1\" class=\"dataframe\">\n",
       "  <thead>\n",
       "    <tr style=\"text-align: right;\">\n",
       "      <th></th>\n",
       "      <th>temp</th>\n",
       "      <th>humidity</th>\n",
       "      <th>wind</th>\n",
       "      <th>play</th>\n",
       "    </tr>\n",
       "  </thead>\n",
       "  <tbody>\n",
       "    <tr>\n",
       "      <th>3</th>\n",
       "      <td>Mild</td>\n",
       "      <td>High</td>\n",
       "      <td>Weak</td>\n",
       "      <td>Yes</td>\n",
       "    </tr>\n",
       "    <tr>\n",
       "      <th>4</th>\n",
       "      <td>Cool</td>\n",
       "      <td>Normal</td>\n",
       "      <td>Weak</td>\n",
       "      <td>Yes</td>\n",
       "    </tr>\n",
       "    <tr>\n",
       "      <th>5</th>\n",
       "      <td>Cool</td>\n",
       "      <td>Normal</td>\n",
       "      <td>Strong</td>\n",
       "      <td>No</td>\n",
       "    </tr>\n",
       "    <tr>\n",
       "      <th>9</th>\n",
       "      <td>Mild</td>\n",
       "      <td>Normal</td>\n",
       "      <td>Weak</td>\n",
       "      <td>Yes</td>\n",
       "    </tr>\n",
       "    <tr>\n",
       "      <th>13</th>\n",
       "      <td>Mild</td>\n",
       "      <td>High</td>\n",
       "      <td>Strong</td>\n",
       "      <td>No</td>\n",
       "    </tr>\n",
       "  </tbody>\n",
       "</table>\n",
       "</div>"
      ],
      "text/plain": [
       "    temp humidity    wind play\n",
       "3   Mild     High    Weak  Yes\n",
       "4   Cool   Normal    Weak  Yes\n",
       "5   Cool   Normal  Strong   No\n",
       "9   Mild   Normal    Weak  Yes\n",
       "13  Mild     High  Strong   No"
      ]
     },
     "execution_count": 76,
     "metadata": {},
     "output_type": "execute_result"
    }
   ],
   "source": [
    "Rain_dataset.head()"
   ]
  },
  {
   "cell_type": "markdown",
   "id": "00325cf3",
   "metadata": {},
   "source": [
    "# Decision Tree(ID3 Algorithm)"
   ]
  },
  {
   "cell_type": "markdown",
   "id": "7ce6a79c",
   "metadata": {},
   "source": [
    "From the dataset, we can know that whenever there is weak wind, the label is yes and whenever the wind is strong, the label is no. Hence the tree can be drawn as:"
   ]
  },
  {
   "cell_type": "markdown",
   "id": "7aec418e",
   "metadata": {},
   "source": [
    "![](final_diagram.png)"
   ]
  },
  {
   "cell_type": "code",
   "execution_count": null,
   "id": "eac445c3",
   "metadata": {},
   "outputs": [],
   "source": []
  }
 ],
 "metadata": {
  "kernelspec": {
   "display_name": "Python 3 (ipykernel)",
   "language": "python",
   "name": "python3"
  },
  "language_info": {
   "codemirror_mode": {
    "name": "ipython",
    "version": 3
   },
   "file_extension": ".py",
   "mimetype": "text/x-python",
   "name": "python",
   "nbconvert_exporter": "python",
   "pygments_lexer": "ipython3",
   "version": "3.10.0"
  }
 },
 "nbformat": 4,
 "nbformat_minor": 5
}
